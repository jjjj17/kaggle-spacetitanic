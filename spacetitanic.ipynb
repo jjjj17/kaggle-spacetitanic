{
 "cells": [
  {
   "cell_type": "code",
   "execution_count": 1,
   "id": "f0721574",
   "metadata": {
    "execution": {
     "iopub.execute_input": "2024-03-12T01:40:30.289778Z",
     "iopub.status.busy": "2024-03-12T01:40:30.288054Z",
     "iopub.status.idle": "2024-03-12T01:40:34.477590Z",
     "shell.execute_reply": "2024-03-12T01:40:34.475815Z"
    },
    "papermill": {
     "duration": 4.201621,
     "end_time": "2024-03-12T01:40:34.481105",
     "exception": false,
     "start_time": "2024-03-12T01:40:30.279484",
     "status": "completed"
    },
    "tags": []
   },
   "outputs": [],
   "source": [
    "import xgboost as xgb\n",
    "import optuna\n",
    "import sklearn.metrics\n",
    "import numpy as np\n",
    "import pandas as pd"
   ]
  },
  {
   "cell_type": "markdown",
   "id": "797a4b58",
   "metadata": {
    "papermill": {
     "duration": 0.005393,
     "end_time": "2024-03-12T01:40:34.492736",
     "exception": false,
     "start_time": "2024-03-12T01:40:34.487343",
     "status": "completed"
    },
    "tags": []
   },
   "source": [
    "# Data treatment"
   ]
  },
  {
   "cell_type": "code",
   "execution_count": 2,
   "id": "75747bad",
   "metadata": {
    "execution": {
     "iopub.execute_input": "2024-03-12T01:40:34.506389Z",
     "iopub.status.busy": "2024-03-12T01:40:34.505708Z",
     "iopub.status.idle": "2024-03-12T01:40:34.557186Z",
     "shell.execute_reply": "2024-03-12T01:40:34.555430Z"
    },
    "papermill": {
     "duration": 0.061915,
     "end_time": "2024-03-12T01:40:34.560252",
     "exception": false,
     "start_time": "2024-03-12T01:40:34.498337",
     "status": "completed"
    },
    "tags": []
   },
   "outputs": [],
   "source": [
    "train_raw = pd.read_csv('/kaggle/input/spaceship-titanic/train.csv')"
   ]
  },
  {
   "cell_type": "code",
   "execution_count": 3,
   "id": "6569a4b9",
   "metadata": {
    "execution": {
     "iopub.execute_input": "2024-03-12T01:40:34.576067Z",
     "iopub.status.busy": "2024-03-12T01:40:34.575107Z",
     "iopub.status.idle": "2024-03-12T01:40:34.582035Z",
     "shell.execute_reply": "2024-03-12T01:40:34.580333Z"
    },
    "papermill": {
     "duration": 0.016909,
     "end_time": "2024-03-12T01:40:34.584153",
     "exception": false,
     "start_time": "2024-03-12T01:40:34.567244",
     "status": "completed"
    },
    "tags": []
   },
   "outputs": [],
   "source": [
    "train_df=train_raw"
   ]
  },
  {
   "cell_type": "code",
   "execution_count": 4,
   "id": "10b0b2a7",
   "metadata": {
    "execution": {
     "iopub.execute_input": "2024-03-12T01:40:34.597805Z",
     "iopub.status.busy": "2024-03-12T01:40:34.597347Z",
     "iopub.status.idle": "2024-03-12T01:40:34.689885Z",
     "shell.execute_reply": "2024-03-12T01:40:34.688173Z"
    },
    "papermill": {
     "duration": 0.102528,
     "end_time": "2024-03-12T01:40:34.692619",
     "exception": false,
     "start_time": "2024-03-12T01:40:34.590091",
     "status": "completed"
    },
    "tags": []
   },
   "outputs": [
    {
     "name": "stderr",
     "output_type": "stream",
     "text": [
      "/tmp/ipykernel_19/3898334493.py:12: FutureWarning: Downcasting behavior in `replace` is deprecated and will be removed in a future version. To retain the old behavior, explicitly call `result.infer_objects(copy=False)`. To opt-in to the future behavior, set `pd.set_option('future.no_silent_downcasting', True)`\n",
      "  train_df['CabinSide'] = train_df['CabinSide'].replace({'S': 0, 'P': 1})\n",
      "/tmp/ipykernel_19/3898334493.py:24: FutureWarning: Downcasting behavior in `replace` is deprecated and will be removed in a future version. To retain the old behavior, explicitly call `result.infer_objects(copy=False)`. To opt-in to the future behavior, set `pd.set_option('future.no_silent_downcasting', True)`\n",
      "  train_df['HomePlanet'] = train_df['HomePlanet'].replace({'Europa': 0, 'Earth': 1, 'Mars': 2})\n"
     ]
    }
   ],
   "source": [
    "train_labels = train_raw['Transported']\n",
    "train_df[['CabinDeck', 'CabinNum', 'CabinSide']] = train_df['Cabin'].str.split('/', n=2, expand=True)\n",
    "train_df[['GroupId', 'GroupPosition']] = train_df['PassengerId'].str.split('_', n=1, expand=True).astype(int)\n",
    "train_df = pd.concat([train_df,pd.get_dummies(train_df.Destination)], axis = 1)\n",
    "train_df.dropna(inplace=True)\n",
    "\n",
    "df_1 = train_df.groupby(by='GroupId').count().reset_index()[['GroupId','PassengerId']].rename(columns={\"GroupId\": \"GroupId\", \"PassengerId\": \"GroupSize\"})\n",
    "\n",
    "train_df['CryoSleep'] = train_df['CryoSleep'].astype(bool)\n",
    "train_df['TotalSpend'] = train_df['RoomService']+train_df['FoodCourt']+train_df['ShoppingMall']+train_df['Spa']+train_df['VRDeck']\n",
    "train_df['VIP'] = train_df['VIP'].astype(bool)\n",
    "train_df['CabinSide'] = train_df['CabinSide'].replace({'S': 0, 'P': 1})\n",
    "train_df['CabinNum'] = train_df['CabinNum'].astype(int)\n",
    "train_df['CabinDeck'] = train_df['CabinSide'].replace(\n",
    "    {'A': 0,\n",
    "     'B': 1,\n",
    "     'C': 2,\n",
    "     'D': 3,\n",
    "     'E': 4,\n",
    "     'F': 5,\n",
    "     'G': 6,\n",
    "     'T': 7\n",
    "    })\n",
    "train_df['HomePlanet'] = train_df['HomePlanet'].replace({'Europa': 0, 'Earth': 1, 'Mars': 2})\n",
    "train_df = pd.merge(train_df,df_1[['GroupId','GroupSize']],on='GroupId',how='left')\n",
    "train_df = train_df.drop(['Name','Destination','Cabin','GroupPosition'],axis=1)"
   ]
  },
  {
   "cell_type": "markdown",
   "id": "c93772d7",
   "metadata": {
    "papermill": {
     "duration": 0.005064,
     "end_time": "2024-03-12T01:40:34.703358",
     "exception": false,
     "start_time": "2024-03-12T01:40:34.698294",
     "status": "completed"
    },
    "tags": []
   },
   "source": [
    "# Dataset Split"
   ]
  },
  {
   "cell_type": "code",
   "execution_count": 5,
   "id": "09cb17cb",
   "metadata": {
    "execution": {
     "iopub.execute_input": "2024-03-12T01:40:34.717906Z",
     "iopub.status.busy": "2024-03-12T01:40:34.717449Z",
     "iopub.status.idle": "2024-03-12T01:40:34.722892Z",
     "shell.execute_reply": "2024-03-12T01:40:34.721904Z"
    },
    "papermill": {
     "duration": 0.016389,
     "end_time": "2024-03-12T01:40:34.725298",
     "exception": false,
     "start_time": "2024-03-12T01:40:34.708909",
     "status": "completed"
    },
    "tags": []
   },
   "outputs": [],
   "source": [
    "def split_dataset(dataset, test_ratio=0.25):\n",
    "  test_indices = np.random.rand(len(dataset)) < test_ratio\n",
    "  return dataset[~test_indices], dataset[test_indices]"
   ]
  },
  {
   "cell_type": "code",
   "execution_count": 6,
   "id": "897dcc55",
   "metadata": {
    "execution": {
     "iopub.execute_input": "2024-03-12T01:40:34.740622Z",
     "iopub.status.busy": "2024-03-12T01:40:34.740101Z",
     "iopub.status.idle": "2024-03-12T01:40:34.749441Z",
     "shell.execute_reply": "2024-03-12T01:40:34.748381Z"
    },
    "papermill": {
     "duration": 0.019567,
     "end_time": "2024-03-12T01:40:34.751857",
     "exception": false,
     "start_time": "2024-03-12T01:40:34.732290",
     "status": "completed"
    },
    "tags": []
   },
   "outputs": [
    {
     "name": "stdout",
     "output_type": "stream",
     "text": [
      "5012 examples in training, 1594 examples in testing.\n"
     ]
    }
   ],
   "source": [
    "dft, dfv = split_dataset(train_df)\n",
    "print(\"{} examples in training, {} examples in testing.\".format(\n",
    "    len(dft), len(dfv)))"
   ]
  },
  {
   "cell_type": "code",
   "execution_count": 7,
   "id": "7f0443d9",
   "metadata": {
    "execution": {
     "iopub.execute_input": "2024-03-12T01:40:34.765619Z",
     "iopub.status.busy": "2024-03-12T01:40:34.765059Z",
     "iopub.status.idle": "2024-03-12T01:40:34.775646Z",
     "shell.execute_reply": "2024-03-12T01:40:34.773954Z"
    },
    "papermill": {
     "duration": 0.021242,
     "end_time": "2024-03-12T01:40:34.778823",
     "exception": false,
     "start_time": "2024-03-12T01:40:34.757581",
     "status": "completed"
    },
    "tags": []
   },
   "outputs": [],
   "source": [
    "y= dft['Transported']\n",
    "Y=dfv['Transported']\n",
    "x = dfv.drop(['Transported','PassengerId'],axis=1)\n",
    "X=dft.drop(['Transported','PassengerId'],axis=1)"
   ]
  },
  {
   "cell_type": "markdown",
   "id": "46575e61",
   "metadata": {
    "papermill": {
     "duration": 0.005225,
     "end_time": "2024-03-12T01:40:34.790122",
     "exception": false,
     "start_time": "2024-03-12T01:40:34.784897",
     "status": "completed"
    },
    "tags": []
   },
   "source": [
    "# Optuna HP Tuning"
   ]
  },
  {
   "cell_type": "code",
   "execution_count": 8,
   "id": "7801d3d4",
   "metadata": {
    "execution": {
     "iopub.execute_input": "2024-03-12T01:40:34.804687Z",
     "iopub.status.busy": "2024-03-12T01:40:34.804222Z",
     "iopub.status.idle": "2024-03-12T01:40:35.245401Z",
     "shell.execute_reply": "2024-03-12T01:40:35.243735Z"
    },
    "papermill": {
     "duration": 0.452412,
     "end_time": "2024-03-12T01:40:35.247906",
     "exception": false,
     "start_time": "2024-03-12T01:40:34.795494",
     "status": "completed"
    },
    "tags": []
   },
   "outputs": [
    {
     "name": "stderr",
     "output_type": "stream",
     "text": [
      "[I 2024-03-12 01:40:34,847] A new study created in memory with name: no-name-27ebfe83-1ecd-4ff8-ac3a-6ae930322edd\n",
      "/opt/conda/lib/python3.10/site-packages/xgboost/core.py:160: UserWarning: [01:40:34] WARNING: /workspace/src/learner.cc:742: \n",
      "Parameters: { \"gamma\", \"grow_policy\", \"max_depth\", \"max_leaves\", \"n_estimators\" } are not used.\n",
      "\n",
      "  warnings.warn(smsg, UserWarning)\n",
      "[I 2024-03-12 01:40:34,891] Trial 0 finished with value: 0.501254705144291 and parameters: {'booster': 'gblinear', 'gamma': 0.010527002057831168, 'max_depth': 19, 'n_estimators': 77, 'grow_policy': 'depthwise', 'learning_rate': 0.000672389211835864}. Best is trial 0 with value: 0.501254705144291.\n",
      "/opt/conda/lib/python3.10/site-packages/xgboost/core.py:160: UserWarning: [01:40:34] WARNING: /workspace/src/learner.cc:742: \n",
      "Parameters: { \"n_estimators\" } are not used.\n",
      "\n",
      "  warnings.warn(smsg, UserWarning)\n",
      "[I 2024-03-12 01:40:34,924] Trial 1 finished with value: 0.7528230865746549 and parameters: {'booster': 'gbtree', 'gamma': 2.4796856732344564e-06, 'max_depth': 8, 'n_estimators': 66, 'grow_policy': 'lossguide', 'learning_rate': 0.006663506071633572}. Best is trial 1 with value: 0.7528230865746549.\n",
      "/opt/conda/lib/python3.10/site-packages/xgboost/core.py:160: UserWarning: [01:40:34] WARNING: /workspace/src/learner.cc:742: \n",
      "Parameters: { \"n_estimators\" } are not used.\n",
      "\n",
      "  warnings.warn(smsg, UserWarning)\n",
      "[I 2024-03-12 01:40:34,970] Trial 2 finished with value: 0.7923462986198243 and parameters: {'booster': 'gbtree', 'gamma': 0.00028987711605660667, 'max_depth': 88, 'n_estimators': 23, 'grow_policy': 'depthwise', 'learning_rate': 0.0993902777415937}. Best is trial 2 with value: 0.7923462986198243.\n",
      "/opt/conda/lib/python3.10/site-packages/xgboost/core.py:160: UserWarning: [01:40:34] WARNING: /workspace/src/learner.cc:742: \n",
      "Parameters: { \"n_estimators\" } are not used.\n",
      "\n",
      "  warnings.warn(smsg, UserWarning)\n",
      "[I 2024-03-12 01:40:35,024] Trial 3 finished with value: 0.7848180677540778 and parameters: {'booster': 'dart', 'gamma': 0.0005485613090102575, 'max_depth': 91, 'n_estimators': 13, 'grow_policy': 'depthwise', 'learning_rate': 0.007898936178161953}. Best is trial 2 with value: 0.7923462986198243.\n",
      "/opt/conda/lib/python3.10/site-packages/xgboost/core.py:160: UserWarning: [01:40:35] WARNING: /workspace/src/learner.cc:742: \n",
      "Parameters: { \"gamma\", \"grow_policy\", \"max_depth\", \"max_leaves\", \"n_estimators\" } are not used.\n",
      "\n",
      "  warnings.warn(smsg, UserWarning)\n",
      "[I 2024-03-12 01:40:35,042] Trial 4 finished with value: 0.7484316185696361 and parameters: {'booster': 'gblinear', 'gamma': 0.00036803516402306126, 'max_depth': 96, 'n_estimators': 50, 'grow_policy': 'depthwise', 'learning_rate': 0.057916550894381934}. Best is trial 2 with value: 0.7923462986198243.\n",
      "/opt/conda/lib/python3.10/site-packages/xgboost/core.py:160: UserWarning: [01:40:35] WARNING: /workspace/src/learner.cc:742: \n",
      "Parameters: { \"n_estimators\" } are not used.\n",
      "\n",
      "  warnings.warn(smsg, UserWarning)\n",
      "[I 2024-03-12 01:40:35,092] Trial 5 finished with value: 0.4905897114178168 and parameters: {'booster': 'dart', 'gamma': 0.003318911777519337, 'max_depth': 66, 'n_estimators': 62, 'grow_policy': 'depthwise', 'learning_rate': 0.0001904251193766252}. Best is trial 2 with value: 0.7923462986198243.\n",
      "/opt/conda/lib/python3.10/site-packages/xgboost/core.py:160: UserWarning: [01:40:35] WARNING: /workspace/src/learner.cc:742: \n",
      "Parameters: { \"n_estimators\" } are not used.\n",
      "\n",
      "  warnings.warn(smsg, UserWarning)\n",
      "[I 2024-03-12 01:40:35,153] Trial 6 finished with value: 0.7245922208281054 and parameters: {'booster': 'gbtree', 'gamma': 1.4181305550662675e-08, 'max_depth': 58, 'n_estimators': 41, 'grow_policy': 'lossguide', 'learning_rate': 0.0025266008375402402}. Best is trial 2 with value: 0.7923462986198243.\n",
      "/opt/conda/lib/python3.10/site-packages/xgboost/core.py:160: UserWarning: [01:40:35] WARNING: /workspace/src/learner.cc:742: \n",
      "Parameters: { \"n_estimators\" } are not used.\n",
      "\n",
      "  warnings.warn(smsg, UserWarning)\n",
      "[I 2024-03-12 01:40:35,189] Trial 7 finished with value: 0.4905897114178168 and parameters: {'booster': 'dart', 'gamma': 0.00017325126331700012, 'max_depth': 13, 'n_estimators': 17, 'grow_policy': 'depthwise', 'learning_rate': 7.135903791993103e-06}. Best is trial 2 with value: 0.7923462986198243.\n",
      "/opt/conda/lib/python3.10/site-packages/xgboost/core.py:160: UserWarning: [01:40:35] WARNING: /workspace/src/learner.cc:742: \n",
      "Parameters: { \"n_estimators\" } are not used.\n",
      "\n",
      "  warnings.warn(smsg, UserWarning)\n",
      "[I 2024-03-12 01:40:35,223] Trial 8 finished with value: 0.7860727728983689 and parameters: {'booster': 'gbtree', 'gamma': 1.5923601489100067e-05, 'max_depth': 58, 'n_estimators': 53, 'grow_policy': 'depthwise', 'learning_rate': 0.08396420617367882}. Best is trial 2 with value: 0.7923462986198243.\n",
      "/opt/conda/lib/python3.10/site-packages/xgboost/core.py:160: UserWarning: [01:40:35] WARNING: /workspace/src/learner.cc:742: \n",
      "Parameters: { \"gamma\", \"grow_policy\", \"max_depth\", \"max_leaves\", \"n_estimators\" } are not used.\n",
      "\n",
      "  warnings.warn(smsg, UserWarning)\n",
      "[I 2024-03-12 01:40:35,240] Trial 9 finished with value: 0.4905897114178168 and parameters: {'booster': 'gblinear', 'gamma': 6.714429179328347e-08, 'max_depth': 13, 'n_estimators': 47, 'grow_policy': 'lossguide', 'learning_rate': 4.229142723511932e-08}. Best is trial 2 with value: 0.7923462986198243.\n"
     ]
    }
   ],
   "source": [
    "dtrain = xgb.DMatrix(X, label=dft['Transported'])\n",
    "dvalid = xgb.DMatrix(x, label=dfv['Transported'])\n",
    "\n",
    "def objective(trial):\n",
    "    optuna.logging.set_verbosity(optuna.logging.DEBUG)\n",
    "    param = {\n",
    "        'objective': 'binary:logistic',\n",
    "        'booster': trial.suggest_categorical('booster', ['gbtree', 'gblinear', 'dart']),\n",
    "        'gamma': trial.suggest_float('gamma', 1e-8, 1.0, log=True),\n",
    "        'max_depth': trial.suggest_int('max_depth',1, 100),\n",
    "        'max_leaves': trial.suggest_int('max_depth',1, 100),\n",
    "        'n_estimators': trial.suggest_int('n_estimators',1, 100),\n",
    "        'grow_policy': trial.suggest_categorical('grow_policy', ['depthwise', 'lossguide']),\n",
    "        'learning_rate': trial.suggest_float('learning_rate', 1e-8, 1.0, log=True)\n",
    "    }    \n",
    "    bst = xgb.train(param, dtrain)\n",
    "    preds = bst.predict(dvalid)\n",
    "    pred_labels = np.rint(preds)\n",
    "    accuracy = sklearn.metrics.accuracy_score(dfv['Transported'], pred_labels)\n",
    "    return accuracy\n",
    "\n",
    "study = optuna.create_study(direction='maximize')\n",
    "study.optimize(objective, n_trials=10)"
   ]
  },
  {
   "cell_type": "markdown",
   "id": "9bed3219",
   "metadata": {
    "papermill": {
     "duration": 0.006428,
     "end_time": "2024-03-12T01:40:35.262947",
     "exception": false,
     "start_time": "2024-03-12T01:40:35.256519",
     "status": "completed"
    },
    "tags": []
   },
   "source": [
    "# Model"
   ]
  },
  {
   "cell_type": "code",
   "execution_count": 9,
   "id": "0695909a",
   "metadata": {
    "execution": {
     "iopub.execute_input": "2024-03-12T01:40:35.279110Z",
     "iopub.status.busy": "2024-03-12T01:40:35.278045Z",
     "iopub.status.idle": "2024-03-12T01:40:35.284447Z",
     "shell.execute_reply": "2024-03-12T01:40:35.283235Z"
    },
    "papermill": {
     "duration": 0.01711,
     "end_time": "2024-03-12T01:40:35.286695",
     "exception": false,
     "start_time": "2024-03-12T01:40:35.269585",
     "status": "completed"
    },
    "tags": []
   },
   "outputs": [],
   "source": [
    "#Trial 358 finished with value: 0.8149405772495756 and parameters: {'booster': 'gbtree', 'gamma': 0.030185106394347308, 'max_depth': 5, 'n_estimators': 93, 'grow_policy': 'lossguide', 'learning_rate': 0.571705231643359}\n",
    "#Trial 188 finished with value: 0.8184421534936999 and parameters: {'booster': 'dart', 'gamma': 0.0001266588948421105, 'max_depth': 33, 'n_estimators': 30, 'grow_policy': 'depthwise', 'learning_rate': 0.3888437378144605}\n",
    "#Trial 701 finished with value: 0.8117079058539529 and parameters: {'booster': 'dart', 'gamma': 0.0014231116611017798, 'max_depth': 21, 'n_estimators': 91, 'grow_policy': 'depthwise', 'learning_rate': 0.7076637158656507}."
   ]
  },
  {
   "cell_type": "code",
   "execution_count": 10,
   "id": "51fa394a",
   "metadata": {
    "execution": {
     "iopub.execute_input": "2024-03-12T01:40:35.303341Z",
     "iopub.status.busy": "2024-03-12T01:40:35.302535Z",
     "iopub.status.idle": "2024-03-12T01:40:35.310272Z",
     "shell.execute_reply": "2024-03-12T01:40:35.308707Z"
    },
    "papermill": {
     "duration": 0.019157,
     "end_time": "2024-03-12T01:40:35.313234",
     "exception": false,
     "start_time": "2024-03-12T01:40:35.294077",
     "status": "completed"
    },
    "tags": []
   },
   "outputs": [],
   "source": [
    "model = xgb.XGBRFClassifier(\n",
    "    booster='dart',\n",
    "    device='cpu',\n",
    "    eval_metric=sklearn.metrics.mean_absolute_percentage_error,\n",
    "    grow_policy = 'depthwise',\n",
    "    gamma = 0.0014231116611017798,\n",
    "    max_depth= 21,\n",
    "    n_estimators = 91,\n",
    "    learning_rate = 0.7076637158656507\n",
    ")"
   ]
  },
  {
   "cell_type": "code",
   "execution_count": 11,
   "id": "cf0c3113",
   "metadata": {
    "execution": {
     "iopub.execute_input": "2024-03-12T01:40:35.329639Z",
     "iopub.status.busy": "2024-03-12T01:40:35.328966Z",
     "iopub.status.idle": "2024-03-12T01:40:36.430359Z",
     "shell.execute_reply": "2024-03-12T01:40:36.428958Z"
    },
    "papermill": {
     "duration": 1.112171,
     "end_time": "2024-03-12T01:40:36.432600",
     "exception": false,
     "start_time": "2024-03-12T01:40:35.320429",
     "status": "completed"
    },
    "tags": []
   },
   "outputs": [
    {
     "name": "stdout",
     "output_type": "stream",
     "text": [
      "[0]\tvalidation_0-logloss:0.35051\tvalidation_0-mean_absolute_percentage_error:637954309488640.00000\tvalidation_1-logloss:0.46204\tvalidation_1-mean_absolute_percentage_error:801236819378176.00000\n"
     ]
    },
    {
     "data": {
      "text/html": [
       "<style>#sk-container-id-1 {color: black;background-color: white;}#sk-container-id-1 pre{padding: 0;}#sk-container-id-1 div.sk-toggleable {background-color: white;}#sk-container-id-1 label.sk-toggleable__label {cursor: pointer;display: block;width: 100%;margin-bottom: 0;padding: 0.3em;box-sizing: border-box;text-align: center;}#sk-container-id-1 label.sk-toggleable__label-arrow:before {content: \"▸\";float: left;margin-right: 0.25em;color: #696969;}#sk-container-id-1 label.sk-toggleable__label-arrow:hover:before {color: black;}#sk-container-id-1 div.sk-estimator:hover label.sk-toggleable__label-arrow:before {color: black;}#sk-container-id-1 div.sk-toggleable__content {max-height: 0;max-width: 0;overflow: hidden;text-align: left;background-color: #f0f8ff;}#sk-container-id-1 div.sk-toggleable__content pre {margin: 0.2em;color: black;border-radius: 0.25em;background-color: #f0f8ff;}#sk-container-id-1 input.sk-toggleable__control:checked~div.sk-toggleable__content {max-height: 200px;max-width: 100%;overflow: auto;}#sk-container-id-1 input.sk-toggleable__control:checked~label.sk-toggleable__label-arrow:before {content: \"▾\";}#sk-container-id-1 div.sk-estimator input.sk-toggleable__control:checked~label.sk-toggleable__label {background-color: #d4ebff;}#sk-container-id-1 div.sk-label input.sk-toggleable__control:checked~label.sk-toggleable__label {background-color: #d4ebff;}#sk-container-id-1 input.sk-hidden--visually {border: 0;clip: rect(1px 1px 1px 1px);clip: rect(1px, 1px, 1px, 1px);height: 1px;margin: -1px;overflow: hidden;padding: 0;position: absolute;width: 1px;}#sk-container-id-1 div.sk-estimator {font-family: monospace;background-color: #f0f8ff;border: 1px dotted black;border-radius: 0.25em;box-sizing: border-box;margin-bottom: 0.5em;}#sk-container-id-1 div.sk-estimator:hover {background-color: #d4ebff;}#sk-container-id-1 div.sk-parallel-item::after {content: \"\";width: 100%;border-bottom: 1px solid gray;flex-grow: 1;}#sk-container-id-1 div.sk-label:hover label.sk-toggleable__label {background-color: #d4ebff;}#sk-container-id-1 div.sk-serial::before {content: \"\";position: absolute;border-left: 1px solid gray;box-sizing: border-box;top: 0;bottom: 0;left: 50%;z-index: 0;}#sk-container-id-1 div.sk-serial {display: flex;flex-direction: column;align-items: center;background-color: white;padding-right: 0.2em;padding-left: 0.2em;position: relative;}#sk-container-id-1 div.sk-item {position: relative;z-index: 1;}#sk-container-id-1 div.sk-parallel {display: flex;align-items: stretch;justify-content: center;background-color: white;position: relative;}#sk-container-id-1 div.sk-item::before, #sk-container-id-1 div.sk-parallel-item::before {content: \"\";position: absolute;border-left: 1px solid gray;box-sizing: border-box;top: 0;bottom: 0;left: 50%;z-index: -1;}#sk-container-id-1 div.sk-parallel-item {display: flex;flex-direction: column;z-index: 1;position: relative;background-color: white;}#sk-container-id-1 div.sk-parallel-item:first-child::after {align-self: flex-end;width: 50%;}#sk-container-id-1 div.sk-parallel-item:last-child::after {align-self: flex-start;width: 50%;}#sk-container-id-1 div.sk-parallel-item:only-child::after {width: 0;}#sk-container-id-1 div.sk-dashed-wrapped {border: 1px dashed gray;margin: 0 0.4em 0.5em 0.4em;box-sizing: border-box;padding-bottom: 0.4em;background-color: white;}#sk-container-id-1 div.sk-label label {font-family: monospace;font-weight: bold;display: inline-block;line-height: 1.2em;}#sk-container-id-1 div.sk-label-container {text-align: center;}#sk-container-id-1 div.sk-container {/* jupyter's `normalize.less` sets `[hidden] { display: none; }` but bootstrap.min.css set `[hidden] { display: none !important; }` so we also need the `!important` here to be able to override the default hidden behavior on the sphinx rendered scikit-learn.org. See: https://github.com/scikit-learn/scikit-learn/issues/21755 */display: inline-block !important;position: relative;}#sk-container-id-1 div.sk-text-repr-fallback {display: none;}</style><div id=\"sk-container-id-1\" class=\"sk-top-container\"><div class=\"sk-text-repr-fallback\"><pre>XGBRFClassifier(base_score=None, booster=&#x27;dart&#x27;, callbacks=None,\n",
       "                colsample_bylevel=None, colsample_bytree=None, device=&#x27;cpu&#x27;,\n",
       "                early_stopping_rounds=None, enable_categorical=False,\n",
       "                eval_metric=&lt;function mean_absolute_percentage_error at 0x7cea89086170&gt;,\n",
       "                feature_types=None, gamma=0.0014231116611017798,\n",
       "                grow_policy=&#x27;depthwise&#x27;, importance_type=None,\n",
       "                interaction_constraints=None, learning_rate=0.7076637158656507,\n",
       "                max_bin=None, max_cat_threshold=None, max_cat_to_onehot=None,\n",
       "                max_delta_step=None, max_depth=21, max_leaves=None,\n",
       "                min_child_weight=None, missing=nan, monotone_constraints=None,\n",
       "                multi_strategy=None, n_estimators=91, n_jobs=None,\n",
       "                num_parallel_tree=None, objective=&#x27;binary:logistic&#x27;,\n",
       "                random_state=None, ...)</pre><b>In a Jupyter environment, please rerun this cell to show the HTML representation or trust the notebook. <br />On GitHub, the HTML representation is unable to render, please try loading this page with nbviewer.org.</b></div><div class=\"sk-container\" hidden><div class=\"sk-item\"><div class=\"sk-estimator sk-toggleable\"><input class=\"sk-toggleable__control sk-hidden--visually\" id=\"sk-estimator-id-1\" type=\"checkbox\" checked><label for=\"sk-estimator-id-1\" class=\"sk-toggleable__label sk-toggleable__label-arrow\">XGBRFClassifier</label><div class=\"sk-toggleable__content\"><pre>XGBRFClassifier(base_score=None, booster=&#x27;dart&#x27;, callbacks=None,\n",
       "                colsample_bylevel=None, colsample_bytree=None, device=&#x27;cpu&#x27;,\n",
       "                early_stopping_rounds=None, enable_categorical=False,\n",
       "                eval_metric=&lt;function mean_absolute_percentage_error at 0x7cea89086170&gt;,\n",
       "                feature_types=None, gamma=0.0014231116611017798,\n",
       "                grow_policy=&#x27;depthwise&#x27;, importance_type=None,\n",
       "                interaction_constraints=None, learning_rate=0.7076637158656507,\n",
       "                max_bin=None, max_cat_threshold=None, max_cat_to_onehot=None,\n",
       "                max_delta_step=None, max_depth=21, max_leaves=None,\n",
       "                min_child_weight=None, missing=nan, monotone_constraints=None,\n",
       "                multi_strategy=None, n_estimators=91, n_jobs=None,\n",
       "                num_parallel_tree=None, objective=&#x27;binary:logistic&#x27;,\n",
       "                random_state=None, ...)</pre></div></div></div></div></div>"
      ],
      "text/plain": [
       "XGBRFClassifier(base_score=None, booster='dart', callbacks=None,\n",
       "                colsample_bylevel=None, colsample_bytree=None, device='cpu',\n",
       "                early_stopping_rounds=None, enable_categorical=False,\n",
       "                eval_metric=<function mean_absolute_percentage_error at 0x7cea89086170>,\n",
       "                feature_types=None, gamma=0.0014231116611017798,\n",
       "                grow_policy='depthwise', importance_type=None,\n",
       "                interaction_constraints=None, learning_rate=0.7076637158656507,\n",
       "                max_bin=None, max_cat_threshold=None, max_cat_to_onehot=None,\n",
       "                max_delta_step=None, max_depth=21, max_leaves=None,\n",
       "                min_child_weight=None, missing=nan, monotone_constraints=None,\n",
       "                multi_strategy=None, n_estimators=91, n_jobs=None,\n",
       "                num_parallel_tree=None, objective='binary:logistic',\n",
       "                random_state=None, ...)"
      ]
     },
     "execution_count": 11,
     "metadata": {},
     "output_type": "execute_result"
    }
   ],
   "source": [
    "model.fit(X,y,eval_set=[(X,y),(x,Y)])"
   ]
  },
  {
   "cell_type": "code",
   "execution_count": 12,
   "id": "9039c6f0",
   "metadata": {
    "execution": {
     "iopub.execute_input": "2024-03-12T01:40:36.462146Z",
     "iopub.status.busy": "2024-03-12T01:40:36.461666Z",
     "iopub.status.idle": "2024-03-12T01:40:36.852021Z",
     "shell.execute_reply": "2024-03-12T01:40:36.850357Z"
    },
    "papermill": {
     "duration": 0.403484,
     "end_time": "2024-03-12T01:40:36.854407",
     "exception": false,
     "start_time": "2024-03-12T01:40:36.450923",
     "status": "completed"
    },
    "tags": []
   },
   "outputs": [
    {
     "data": {
      "text/plain": [
       "0.8111668757841907"
      ]
     },
     "execution_count": 12,
     "metadata": {},
     "output_type": "execute_result"
    }
   ],
   "source": [
    "trueval = dfv['Transported']\n",
    "predval = model.predict(x)\n",
    "sklearn.metrics.accuracy_score(trueval, predval)"
   ]
  },
  {
   "cell_type": "code",
   "execution_count": 13,
   "id": "0da62aa0",
   "metadata": {
    "execution": {
     "iopub.execute_input": "2024-03-12T01:40:36.877532Z",
     "iopub.status.busy": "2024-03-12T01:40:36.876995Z",
     "iopub.status.idle": "2024-03-12T01:40:37.312798Z",
     "shell.execute_reply": "2024-03-12T01:40:37.311732Z"
    },
    "papermill": {
     "duration": 0.450845,
     "end_time": "2024-03-12T01:40:37.315916",
     "exception": false,
     "start_time": "2024-03-12T01:40:36.865071",
     "status": "completed"
    },
    "tags": []
   },
   "outputs": [
    {
     "data": {
      "text/plain": [
       "<Axes: title={'center': 'Feature importance'}, xlabel='F score', ylabel='Features'>"
      ]
     },
     "execution_count": 13,
     "metadata": {},
     "output_type": "execute_result"
    },
    {
     "data": {
      "image/png": "[encoded data removed]",
      "text/plain": [
       "<Figure size 640x480 with 1 Axes>"
      ]
     },
     "metadata": {},
     "output_type": "display_data"
    }
   ],
   "source": [
    "xgb.plot_importance(model)"
   ]
  },
  {
   "cell_type": "markdown",
   "id": "e8a9b49b",
   "metadata": {
    "papermill": {
     "duration": 0.0082,
     "end_time": "2024-03-12T01:40:37.334610",
     "exception": false,
     "start_time": "2024-03-12T01:40:37.326410",
     "status": "completed"
    },
    "tags": []
   },
   "source": [
    "# Prediction"
   ]
  },
  {
   "cell_type": "code",
   "execution_count": 14,
   "id": "c90fbd21",
   "metadata": {
    "execution": {
     "iopub.execute_input": "2024-03-12T01:40:37.353236Z",
     "iopub.status.busy": "2024-03-12T01:40:37.352753Z",
     "iopub.status.idle": "2024-03-12T01:40:37.382300Z",
     "shell.execute_reply": "2024-03-12T01:40:37.380157Z"
    },
    "papermill": {
     "duration": 0.042925,
     "end_time": "2024-03-12T01:40:37.385852",
     "exception": false,
     "start_time": "2024-03-12T01:40:37.342927",
     "status": "completed"
    },
    "tags": []
   },
   "outputs": [],
   "source": [
    "test_df = pd.read_csv('/kaggle/input/spaceship-titanic/test.csv')\n",
    "labels = test_df['PassengerId']"
   ]
  },
  {
   "cell_type": "code",
   "execution_count": 15,
   "id": "51c92a22",
   "metadata": {
    "execution": {
     "iopub.execute_input": "2024-03-12T01:40:37.405527Z",
     "iopub.status.busy": "2024-03-12T01:40:37.405031Z",
     "iopub.status.idle": "2024-03-12T01:40:37.456257Z",
     "shell.execute_reply": "2024-03-12T01:40:37.454446Z"
    },
    "papermill": {
     "duration": 0.064239,
     "end_time": "2024-03-12T01:40:37.459670",
     "exception": false,
     "start_time": "2024-03-12T01:40:37.395431",
     "status": "completed"
    },
    "tags": []
   },
   "outputs": [
    {
     "name": "stderr",
     "output_type": "stream",
     "text": [
      "/tmp/ipykernel_19/3307544697.py:12: FutureWarning: Downcasting behavior in `replace` is deprecated and will be removed in a future version. To retain the old behavior, explicitly call `result.infer_objects(copy=False)`. To opt-in to the future behavior, set `pd.set_option('future.no_silent_downcasting', True)`\n",
      "  test_df['CabinSide'] = test_df['CabinSide'].replace({'S': 0, 'P': 1})\n",
      "/tmp/ipykernel_19/3307544697.py:24: FutureWarning: Downcasting behavior in `replace` is deprecated and will be removed in a future version. To retain the old behavior, explicitly call `result.infer_objects(copy=False)`. To opt-in to the future behavior, set `pd.set_option('future.no_silent_downcasting', True)`\n",
      "  test_df['HomePlanet'] = test_df['HomePlanet'].replace({'Europa': 0, 'Earth': 1, 'Mars': 2})\n"
     ]
    }
   ],
   "source": [
    "test_df[['CabinDeck', 'CabinNum', 'CabinSide']] = test_df['Cabin'].str.split('/', n=2, expand=True)\n",
    "test_df[['GroupId', 'GroupPosition']] = test_df['PassengerId'].str.split('_', n=1, expand=True).astype(int)\n",
    "test_df = pd.concat([test_df,pd.get_dummies(test_df.Destination)], axis = 1)\n",
    "test_df.fillna(0,inplace=True)\n",
    "\n",
    "df_2 = test_df.groupby(by='GroupId').count().reset_index()[['GroupId','PassengerId']].rename(columns={\"GroupId\": \"GroupId\", \"PassengerId\": \"GroupSize\"})\n",
    "\n",
    "\n",
    "test_df['TotalSpend'] = test_df['RoomService']+test_df['FoodCourt']+test_df['ShoppingMall']+test_df['Spa']+test_df['VRDeck']\n",
    "test_df['CryoSleep'] = test_df['CryoSleep'].astype(bool)\n",
    "test_df['VIP'] = test_df['VIP'].astype(bool)\n",
    "test_df['CabinSide'] = test_df['CabinSide'].replace({'S': 0, 'P': 1})\n",
    "test_df['CabinNum'] = test_df['CabinNum'].astype(int)\n",
    "test_df['CabinDeck'] = test_df['CabinSide'].replace(\n",
    "    {'A': 0,\n",
    "     'B': 1,\n",
    "     'C': 2,\n",
    "     'D': 3,\n",
    "     'E': 4,\n",
    "     'F': 5,\n",
    "     'G': 6,\n",
    "     'T': 7\n",
    "    })\n",
    "test_df['HomePlanet'] = test_df['HomePlanet'].replace({'Europa': 0, 'Earth': 1, 'Mars': 2})\n",
    "test_df = pd.merge(test_df,df_2[['GroupId','GroupSize']],on='GroupId',how='left')\n",
    "test_df = test_df.drop(['Name','Destination','Cabin','PassengerId','GroupPosition'],axis=1)"
   ]
  },
  {
   "cell_type": "code",
   "execution_count": 16,
   "id": "f6da59ce",
   "metadata": {
    "execution": {
     "iopub.execute_input": "2024-03-12T01:40:37.479444Z",
     "iopub.status.busy": "2024-03-12T01:40:37.479009Z",
     "iopub.status.idle": "2024-03-12T01:40:37.510869Z",
     "shell.execute_reply": "2024-03-12T01:40:37.509868Z"
    },
    "papermill": {
     "duration": 0.044423,
     "end_time": "2024-03-12T01:40:37.513359",
     "exception": false,
     "start_time": "2024-03-12T01:40:37.468936",
     "status": "completed"
    },
    "tags": []
   },
   "outputs": [
    {
     "data": {
      "text/html": [
       "<div>\n",
       "<style scoped>\n",
       "    .dataframe tbody tr th:only-of-type {\n",
       "        vertical-align: middle;\n",
       "    }\n",
       "\n",
       "    .dataframe tbody tr th {\n",
       "        vertical-align: top;\n",
       "    }\n",
       "\n",
       "    .dataframe thead th {\n",
       "        text-align: right;\n",
       "    }\n",
       "</style>\n",
       "<table border=\"1\" class=\"dataframe\">\n",
       "  <thead>\n",
       "    <tr style=\"text-align: right;\">\n",
       "      <th></th>\n",
       "      <th>HomePlanet</th>\n",
       "      <th>CryoSleep</th>\n",
       "      <th>Age</th>\n",
       "      <th>VIP</th>\n",
       "      <th>RoomService</th>\n",
       "      <th>FoodCourt</th>\n",
       "      <th>ShoppingMall</th>\n",
       "      <th>Spa</th>\n",
       "      <th>VRDeck</th>\n",
       "      <th>CabinDeck</th>\n",
       "      <th>CabinNum</th>\n",
       "      <th>CabinSide</th>\n",
       "      <th>GroupId</th>\n",
       "      <th>55 Cancri e</th>\n",
       "      <th>PSO J318.5-22</th>\n",
       "      <th>TRAPPIST-1e</th>\n",
       "      <th>TotalSpend</th>\n",
       "      <th>GroupSize</th>\n",
       "    </tr>\n",
       "  </thead>\n",
       "  <tbody>\n",
       "    <tr>\n",
       "      <th>0</th>\n",
       "      <td>1</td>\n",
       "      <td>True</td>\n",
       "      <td>27.0</td>\n",
       "      <td>False</td>\n",
       "      <td>0.0</td>\n",
       "      <td>0.0</td>\n",
       "      <td>0.0</td>\n",
       "      <td>0.0</td>\n",
       "      <td>0.0</td>\n",
       "      <td>0</td>\n",
       "      <td>3</td>\n",
       "      <td>0</td>\n",
       "      <td>13</td>\n",
       "      <td>False</td>\n",
       "      <td>False</td>\n",
       "      <td>True</td>\n",
       "      <td>0.0</td>\n",
       "      <td>1</td>\n",
       "    </tr>\n",
       "    <tr>\n",
       "      <th>1</th>\n",
       "      <td>1</td>\n",
       "      <td>False</td>\n",
       "      <td>19.0</td>\n",
       "      <td>False</td>\n",
       "      <td>0.0</td>\n",
       "      <td>9.0</td>\n",
       "      <td>0.0</td>\n",
       "      <td>2823.0</td>\n",
       "      <td>0.0</td>\n",
       "      <td>0</td>\n",
       "      <td>4</td>\n",
       "      <td>0</td>\n",
       "      <td>18</td>\n",
       "      <td>False</td>\n",
       "      <td>False</td>\n",
       "      <td>True</td>\n",
       "      <td>2832.0</td>\n",
       "      <td>1</td>\n",
       "    </tr>\n",
       "    <tr>\n",
       "      <th>2</th>\n",
       "      <td>0</td>\n",
       "      <td>True</td>\n",
       "      <td>31.0</td>\n",
       "      <td>False</td>\n",
       "      <td>0.0</td>\n",
       "      <td>0.0</td>\n",
       "      <td>0.0</td>\n",
       "      <td>0.0</td>\n",
       "      <td>0.0</td>\n",
       "      <td>0</td>\n",
       "      <td>0</td>\n",
       "      <td>0</td>\n",
       "      <td>19</td>\n",
       "      <td>True</td>\n",
       "      <td>False</td>\n",
       "      <td>False</td>\n",
       "      <td>0.0</td>\n",
       "      <td>1</td>\n",
       "    </tr>\n",
       "    <tr>\n",
       "      <th>3</th>\n",
       "      <td>0</td>\n",
       "      <td>False</td>\n",
       "      <td>38.0</td>\n",
       "      <td>False</td>\n",
       "      <td>0.0</td>\n",
       "      <td>6652.0</td>\n",
       "      <td>0.0</td>\n",
       "      <td>181.0</td>\n",
       "      <td>585.0</td>\n",
       "      <td>0</td>\n",
       "      <td>1</td>\n",
       "      <td>0</td>\n",
       "      <td>21</td>\n",
       "      <td>False</td>\n",
       "      <td>False</td>\n",
       "      <td>True</td>\n",
       "      <td>7418.0</td>\n",
       "      <td>1</td>\n",
       "    </tr>\n",
       "    <tr>\n",
       "      <th>4</th>\n",
       "      <td>1</td>\n",
       "      <td>False</td>\n",
       "      <td>20.0</td>\n",
       "      <td>False</td>\n",
       "      <td>10.0</td>\n",
       "      <td>0.0</td>\n",
       "      <td>635.0</td>\n",
       "      <td>0.0</td>\n",
       "      <td>0.0</td>\n",
       "      <td>0</td>\n",
       "      <td>5</td>\n",
       "      <td>0</td>\n",
       "      <td>23</td>\n",
       "      <td>False</td>\n",
       "      <td>False</td>\n",
       "      <td>True</td>\n",
       "      <td>645.0</td>\n",
       "      <td>1</td>\n",
       "    </tr>\n",
       "    <tr>\n",
       "      <th>...</th>\n",
       "      <td>...</td>\n",
       "      <td>...</td>\n",
       "      <td>...</td>\n",
       "      <td>...</td>\n",
       "      <td>...</td>\n",
       "      <td>...</td>\n",
       "      <td>...</td>\n",
       "      <td>...</td>\n",
       "      <td>...</td>\n",
       "      <td>...</td>\n",
       "      <td>...</td>\n",
       "      <td>...</td>\n",
       "      <td>...</td>\n",
       "      <td>...</td>\n",
       "      <td>...</td>\n",
       "      <td>...</td>\n",
       "      <td>...</td>\n",
       "      <td>...</td>\n",
       "    </tr>\n",
       "    <tr>\n",
       "      <th>4272</th>\n",
       "      <td>1</td>\n",
       "      <td>True</td>\n",
       "      <td>34.0</td>\n",
       "      <td>False</td>\n",
       "      <td>0.0</td>\n",
       "      <td>0.0</td>\n",
       "      <td>0.0</td>\n",
       "      <td>0.0</td>\n",
       "      <td>0.0</td>\n",
       "      <td>0</td>\n",
       "      <td>1496</td>\n",
       "      <td>0</td>\n",
       "      <td>9266</td>\n",
       "      <td>False</td>\n",
       "      <td>False</td>\n",
       "      <td>True</td>\n",
       "      <td>0.0</td>\n",
       "      <td>2</td>\n",
       "    </tr>\n",
       "    <tr>\n",
       "      <th>4273</th>\n",
       "      <td>1</td>\n",
       "      <td>False</td>\n",
       "      <td>42.0</td>\n",
       "      <td>False</td>\n",
       "      <td>0.0</td>\n",
       "      <td>847.0</td>\n",
       "      <td>17.0</td>\n",
       "      <td>10.0</td>\n",
       "      <td>144.0</td>\n",
       "      <td>0</td>\n",
       "      <td>0</td>\n",
       "      <td>0</td>\n",
       "      <td>9269</td>\n",
       "      <td>False</td>\n",
       "      <td>False</td>\n",
       "      <td>True</td>\n",
       "      <td>1018.0</td>\n",
       "      <td>1</td>\n",
       "    </tr>\n",
       "    <tr>\n",
       "      <th>4274</th>\n",
       "      <td>2</td>\n",
       "      <td>True</td>\n",
       "      <td>0.0</td>\n",
       "      <td>False</td>\n",
       "      <td>0.0</td>\n",
       "      <td>0.0</td>\n",
       "      <td>0.0</td>\n",
       "      <td>0.0</td>\n",
       "      <td>0.0</td>\n",
       "      <td>1</td>\n",
       "      <td>296</td>\n",
       "      <td>1</td>\n",
       "      <td>9271</td>\n",
       "      <td>True</td>\n",
       "      <td>False</td>\n",
       "      <td>False</td>\n",
       "      <td>0.0</td>\n",
       "      <td>1</td>\n",
       "    </tr>\n",
       "    <tr>\n",
       "      <th>4275</th>\n",
       "      <td>0</td>\n",
       "      <td>False</td>\n",
       "      <td>0.0</td>\n",
       "      <td>False</td>\n",
       "      <td>0.0</td>\n",
       "      <td>2680.0</td>\n",
       "      <td>0.0</td>\n",
       "      <td>0.0</td>\n",
       "      <td>523.0</td>\n",
       "      <td>1</td>\n",
       "      <td>297</td>\n",
       "      <td>1</td>\n",
       "      <td>9273</td>\n",
       "      <td>False</td>\n",
       "      <td>False</td>\n",
       "      <td>False</td>\n",
       "      <td>3203.0</td>\n",
       "      <td>1</td>\n",
       "    </tr>\n",
       "    <tr>\n",
       "      <th>4276</th>\n",
       "      <td>1</td>\n",
       "      <td>True</td>\n",
       "      <td>43.0</td>\n",
       "      <td>False</td>\n",
       "      <td>0.0</td>\n",
       "      <td>0.0</td>\n",
       "      <td>0.0</td>\n",
       "      <td>0.0</td>\n",
       "      <td>0.0</td>\n",
       "      <td>0</td>\n",
       "      <td>1498</td>\n",
       "      <td>0</td>\n",
       "      <td>9277</td>\n",
       "      <td>False</td>\n",
       "      <td>True</td>\n",
       "      <td>False</td>\n",
       "      <td>0.0</td>\n",
       "      <td>1</td>\n",
       "    </tr>\n",
       "  </tbody>\n",
       "</table>\n",
       "<p>4277 rows × 18 columns</p>\n",
       "</div>"
      ],
      "text/plain": [
       "      HomePlanet  CryoSleep   Age    VIP  RoomService  FoodCourt  \\\n",
       "0              1       True  27.0  False          0.0        0.0   \n",
       "1              1      False  19.0  False          0.0        9.0   \n",
       "2              0       True  31.0  False          0.0        0.0   \n",
       "3              0      False  38.0  False          0.0     6652.0   \n",
       "4              1      False  20.0  False         10.0        0.0   \n",
       "...          ...        ...   ...    ...          ...        ...   \n",
       "4272           1       True  34.0  False          0.0        0.0   \n",
       "4273           1      False  42.0  False          0.0      847.0   \n",
       "4274           2       True   0.0  False          0.0        0.0   \n",
       "4275           0      False   0.0  False          0.0     2680.0   \n",
       "4276           1       True  43.0  False          0.0        0.0   \n",
       "\n",
       "      ShoppingMall     Spa  VRDeck  CabinDeck  CabinNum  CabinSide  GroupId  \\\n",
       "0              0.0     0.0     0.0          0         3          0       13   \n",
       "1              0.0  2823.0     0.0          0         4          0       18   \n",
       "2              0.0     0.0     0.0          0         0          0       19   \n",
       "3              0.0   181.0   585.0          0         1          0       21   \n",
       "4            635.0     0.0     0.0          0         5          0       23   \n",
       "...            ...     ...     ...        ...       ...        ...      ...   \n",
       "4272           0.0     0.0     0.0          0      1496          0     9266   \n",
       "4273          17.0    10.0   144.0          0         0          0     9269   \n",
       "4274           0.0     0.0     0.0          1       296          1     9271   \n",
       "4275           0.0     0.0   523.0          1       297          1     9273   \n",
       "4276           0.0     0.0     0.0          0      1498          0     9277   \n",
       "\n",
       "      55 Cancri e  PSO J318.5-22  TRAPPIST-1e  TotalSpend  GroupSize  \n",
       "0           False          False         True         0.0          1  \n",
       "1           False          False         True      2832.0          1  \n",
       "2            True          False        False         0.0          1  \n",
       "3           False          False         True      7418.0          1  \n",
       "4           False          False         True       645.0          1  \n",
       "...           ...            ...          ...         ...        ...  \n",
       "4272        False          False         True         0.0          2  \n",
       "4273        False          False         True      1018.0          1  \n",
       "4274         True          False        False         0.0          1  \n",
       "4275        False          False        False      3203.0          1  \n",
       "4276        False           True        False         0.0          1  \n",
       "\n",
       "[4277 rows x 18 columns]"
      ]
     },
     "execution_count": 16,
     "metadata": {},
     "output_type": "execute_result"
    }
   ],
   "source": [
    "test_df"
   ]
  },
  {
   "cell_type": "code",
   "execution_count": 17,
   "id": "336e971b",
   "metadata": {
    "execution": {
     "iopub.execute_input": "2024-03-12T01:40:37.538531Z",
     "iopub.status.busy": "2024-03-12T01:40:37.537757Z",
     "iopub.status.idle": "2024-03-12T01:40:37.599888Z",
     "shell.execute_reply": "2024-03-12T01:40:37.598932Z"
    },
    "papermill": {
     "duration": 0.078458,
     "end_time": "2024-03-12T01:40:37.602745",
     "exception": false,
     "start_time": "2024-03-12T01:40:37.524287",
     "status": "completed"
    },
    "tags": []
   },
   "outputs": [],
   "source": [
    "test_df['Transported'] = model.predict(test_df)\n",
    "test_df['PassengerId'] = labels"
   ]
  },
  {
   "cell_type": "code",
   "execution_count": 18,
   "id": "191b2912",
   "metadata": {
    "execution": {
     "iopub.execute_input": "2024-03-12T01:40:37.622922Z",
     "iopub.status.busy": "2024-03-12T01:40:37.622052Z",
     "iopub.status.idle": "2024-03-12T01:40:37.634204Z",
     "shell.execute_reply": "2024-03-12T01:40:37.633004Z"
    },
    "papermill": {
     "duration": 0.027742,
     "end_time": "2024-03-12T01:40:37.639268",
     "exception": false,
     "start_time": "2024-03-12T01:40:37.611526",
     "status": "completed"
    },
    "tags": []
   },
   "outputs": [
    {
     "name": "stderr",
     "output_type": "stream",
     "text": [
      "/tmp/ipykernel_19/865874347.py:2: FutureWarning: Downcasting behavior in `replace` is deprecated and will be removed in a future version. To retain the old behavior, explicitly call `result.infer_objects(copy=False)`. To opt-in to the future behavior, set `pd.set_option('future.no_silent_downcasting', True)`\n",
      "  dfexport['Transported'] = dfexport['Transported'].replace({0: False, 1: True}).astype(str)\n",
      "/tmp/ipykernel_19/865874347.py:2: SettingWithCopyWarning: \n",
      "A value is trying to be set on a copy of a slice from a DataFrame.\n",
      "Try using .loc[row_indexer,col_indexer] = value instead\n",
      "\n",
      "See the caveats in the documentation: https://pandas.pydata.org/pandas-docs/stable/user_guide/indexing.html#returning-a-view-versus-a-copy\n",
      "  dfexport['Transported'] = dfexport['Transported'].replace({0: False, 1: True}).astype(str)\n"
     ]
    }
   ],
   "source": [
    "dfexport = test_df[['PassengerId','Transported']]\n",
    "dfexport['Transported'] = dfexport['Transported'].replace({0: False, 1: True}).astype(str)"
   ]
  },
  {
   "cell_type": "code",
   "execution_count": 19,
   "id": "c49d3c6d",
   "metadata": {
    "execution": {
     "iopub.execute_input": "2024-03-12T01:40:37.662004Z",
     "iopub.status.busy": "2024-03-12T01:40:37.661361Z",
     "iopub.status.idle": "2024-03-12T01:40:37.676597Z",
     "shell.execute_reply": "2024-03-12T01:40:37.675388Z"
    },
    "papermill": {
     "duration": 0.029181,
     "end_time": "2024-03-12T01:40:37.678656",
     "exception": false,
     "start_time": "2024-03-12T01:40:37.649475",
     "status": "completed"
    },
    "tags": []
   },
   "outputs": [
    {
     "data": {
      "text/html": [
       "<div>\n",
       "<style scoped>\n",
       "    .dataframe tbody tr th:only-of-type {\n",
       "        vertical-align: middle;\n",
       "    }\n",
       "\n",
       "    .dataframe tbody tr th {\n",
       "        vertical-align: top;\n",
       "    }\n",
       "\n",
       "    .dataframe thead th {\n",
       "        text-align: right;\n",
       "    }\n",
       "</style>\n",
       "<table border=\"1\" class=\"dataframe\">\n",
       "  <thead>\n",
       "    <tr style=\"text-align: right;\">\n",
       "      <th></th>\n",
       "      <th>PassengerId</th>\n",
       "      <th>Transported</th>\n",
       "    </tr>\n",
       "  </thead>\n",
       "  <tbody>\n",
       "    <tr>\n",
       "      <th>0</th>\n",
       "      <td>0013_01</td>\n",
       "      <td>False</td>\n",
       "    </tr>\n",
       "    <tr>\n",
       "      <th>1</th>\n",
       "      <td>0018_01</td>\n",
       "      <td>False</td>\n",
       "    </tr>\n",
       "    <tr>\n",
       "      <th>2</th>\n",
       "      <td>0019_01</td>\n",
       "      <td>True</td>\n",
       "    </tr>\n",
       "    <tr>\n",
       "      <th>3</th>\n",
       "      <td>0021_01</td>\n",
       "      <td>True</td>\n",
       "    </tr>\n",
       "    <tr>\n",
       "      <th>4</th>\n",
       "      <td>0023_01</td>\n",
       "      <td>True</td>\n",
       "    </tr>\n",
       "    <tr>\n",
       "      <th>...</th>\n",
       "      <td>...</td>\n",
       "      <td>...</td>\n",
       "    </tr>\n",
       "    <tr>\n",
       "      <th>4272</th>\n",
       "      <td>9266_02</td>\n",
       "      <td>True</td>\n",
       "    </tr>\n",
       "    <tr>\n",
       "      <th>4273</th>\n",
       "      <td>9269_01</td>\n",
       "      <td>True</td>\n",
       "    </tr>\n",
       "    <tr>\n",
       "      <th>4274</th>\n",
       "      <td>9271_01</td>\n",
       "      <td>True</td>\n",
       "    </tr>\n",
       "    <tr>\n",
       "      <th>4275</th>\n",
       "      <td>9273_01</td>\n",
       "      <td>True</td>\n",
       "    </tr>\n",
       "    <tr>\n",
       "      <th>4276</th>\n",
       "      <td>9277_01</td>\n",
       "      <td>True</td>\n",
       "    </tr>\n",
       "  </tbody>\n",
       "</table>\n",
       "<p>4277 rows × 2 columns</p>\n",
       "</div>"
      ],
      "text/plain": [
       "     PassengerId Transported\n",
       "0        0013_01       False\n",
       "1        0018_01       False\n",
       "2        0019_01        True\n",
       "3        0021_01        True\n",
       "4        0023_01        True\n",
       "...          ...         ...\n",
       "4272     9266_02        True\n",
       "4273     9269_01        True\n",
       "4274     9271_01        True\n",
       "4275     9273_01        True\n",
       "4276     9277_01        True\n",
       "\n",
       "[4277 rows x 2 columns]"
      ]
     },
     "execution_count": 19,
     "metadata": {},
     "output_type": "execute_result"
    }
   ],
   "source": [
    "dfexport"
   ]
  },
  {
   "cell_type": "code",
   "execution_count": 20,
   "id": "30f57bf9",
   "metadata": {
    "execution": {
     "iopub.execute_input": "2024-03-12T01:40:37.698723Z",
     "iopub.status.busy": "2024-03-12T01:40:37.697942Z",
     "iopub.status.idle": "2024-03-12T01:40:37.711981Z",
     "shell.execute_reply": "2024-03-12T01:40:37.710406Z"
    },
    "papermill": {
     "duration": 0.027357,
     "end_time": "2024-03-12T01:40:37.715051",
     "exception": false,
     "start_time": "2024-03-12T01:40:37.687694",
     "status": "completed"
    },
    "tags": []
   },
   "outputs": [],
   "source": [
    "dfexport.to_csv('submission.csv')"
   ]
  },
  {
   "cell_type": "code",
   "execution_count": 21,
   "id": "1e659c72",
   "metadata": {
    "execution": {
     "iopub.execute_input": "2024-03-12T01:40:37.735539Z",
     "iopub.status.busy": "2024-03-12T01:40:37.735000Z",
     "iopub.status.idle": "2024-03-12T01:40:37.741125Z",
     "shell.execute_reply": "2024-03-12T01:40:37.739500Z"
    },
    "papermill": {
     "duration": 0.020766,
     "end_time": "2024-03-12T01:40:37.745149",
     "exception": false,
     "start_time": "2024-03-12T01:40:37.724383",
     "status": "completed"
    },
    "tags": []
   },
   "outputs": [],
   "source": [
    "# The fillna method is trash\n"
   ]
  }
 ],
 "metadata": {
  "kaggle": {
   "accelerator": "none",
   "dataSources": [
    {
     "databundleVersionId": 3220602,
     "sourceId": 34377,
     "sourceType": "competition"
    }
   ],
   "dockerImageVersionId": 30664,
   "isGpuEnabled": false,
   "isInternetEnabled": true,
   "language": "python",
   "sourceType": "notebook"
  },
  "kernelspec": {
   "display_name": "Python 3",
   "language": "python",
   "name": "python3"
  },
  "language_info": {
   "codemirror_mode": {
    "name": "ipython",
    "version": 3
   },
   "file_extension": ".py",
   "mimetype": "text/x-python",
   "name": "python",
   "nbconvert_exporter": "python",
   "pygments_lexer": "ipython3",
   "version": "3.10.13"
  },
  "papermill": {
   "default_parameters": {},
   "duration": 11.20252,
   "end_time": "2024-03-12T01:40:38.681166",
   "environment_variables": {},
   "exception": null,
   "input_path": "__notebook__.ipynb",
   "output_path": "__notebook__.ipynb",
   "parameters": {},
   "start_time": "2024-03-12T01:40:27.478646",
   "version": "2.5.0"
  }
 },
 "nbformat": 4,
 "nbformat_minor": 5
}
