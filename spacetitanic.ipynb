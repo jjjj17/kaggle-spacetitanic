{
 "cells": [
  {
   "cell_type": "code",
   "execution_count": 1,
   "id": "aa326cb2",
   "metadata": {
    "_cell_guid": "b1076dfc-b9ad-4769-8c92-a6c4dae69d19",
    "_uuid": "8f2839f25d086af736a60e9eeb907d3b93b6e0e5",
    "execution": {
     "iopub.execute_input": "2024-03-09T15:26:39.441242Z",
     "iopub.status.busy": "2024-03-09T15:26:39.440856Z",
     "iopub.status.idle": "2024-03-09T15:26:40.311080Z",
     "shell.execute_reply": "2024-03-09T15:26:40.310290Z"
    },
    "papermill": {
     "duration": 0.881971,
     "end_time": "2024-03-09T15:26:40.314296",
     "exception": false,
     "start_time": "2024-03-09T15:26:39.432325",
     "status": "completed"
    },
    "tags": []
   },
   "outputs": [
    {
     "name": "stdout",
     "output_type": "stream",
     "text": [
      "/kaggle/input/spaceship-titanic/sample_submission.csv\n",
      "/kaggle/input/spaceship-titanic/train.csv\n",
      "/kaggle/input/spaceship-titanic/test.csv\n"
     ]
    }
   ],
   "source": [
    "# This Python 3 environment comes with many helpful analytics libraries installed\n",
    "# It is defined by the kaggle/python Docker image: https://github.com/kaggle/docker-python\n",
    "# For example, here's several helpful packages to load\n",
    "\n",
    "import numpy as np # linear algebra\n",
    "import pandas as pd # data processing, CSV file I/O (e.g. pd.read_csv)\n",
    "\n",
    "# Input data files are available in the read-only \"../input/\" directory\n",
    "# For example, running this (by clicking run or pressing Shift+Enter) will list all files under the input directory\n",
    "\n",
    "import os\n",
    "for dirname, _, filenames in os.walk('/kaggle/input'):\n",
    "    for filename in filenames:\n",
    "        print(os.path.join(dirname, filename))\n",
    "\n",
    "# You can write up to 20GB to the current directory (/kaggle/working/) that gets preserved as output when you create a version using \"Save & Run All\" \n",
    "# You can also write temporary files to /kaggle/temp/, but they won't be saved outside of the current session"
   ]
  },
  {
   "cell_type": "code",
   "execution_count": 2,
   "id": "3e819138",
   "metadata": {
    "execution": {
     "iopub.execute_input": "2024-03-09T15:26:40.330804Z",
     "iopub.status.busy": "2024-03-09T15:26:40.329800Z",
     "iopub.status.idle": "2024-03-09T15:26:43.257128Z",
     "shell.execute_reply": "2024-03-09T15:26:43.256092Z"
    },
    "papermill": {
     "duration": 2.938292,
     "end_time": "2024-03-09T15:26:43.259717",
     "exception": false,
     "start_time": "2024-03-09T15:26:40.321425",
     "status": "completed"
    },
    "tags": []
   },
   "outputs": [],
   "source": [
    "import xgboost as xgb\n",
    "import optuna\n",
    "import sklearn.metrics"
   ]
  },
  {
   "cell_type": "markdown",
   "id": "79a3336a",
   "metadata": {
    "papermill": {
     "duration": 0.006298,
     "end_time": "2024-03-09T15:26:43.272723",
     "exception": false,
     "start_time": "2024-03-09T15:26:43.266425",
     "status": "completed"
    },
    "tags": []
   },
   "source": [
    "# Data treatment"
   ]
  },
  {
   "cell_type": "code",
   "execution_count": 3,
   "id": "944e3a48",
   "metadata": {
    "execution": {
     "iopub.execute_input": "2024-03-09T15:26:43.287381Z",
     "iopub.status.busy": "2024-03-09T15:26:43.287022Z",
     "iopub.status.idle": "2024-03-09T15:26:43.341700Z",
     "shell.execute_reply": "2024-03-09T15:26:43.340835Z"
    },
    "papermill": {
     "duration": 0.064924,
     "end_time": "2024-03-09T15:26:43.344124",
     "exception": false,
     "start_time": "2024-03-09T15:26:43.279200",
     "status": "completed"
    },
    "tags": []
   },
   "outputs": [],
   "source": [
    "train_raw = pd.read_csv('/kaggle/input/spaceship-titanic/train.csv')"
   ]
  },
  {
   "cell_type": "code",
   "execution_count": 4,
   "id": "a868a0e7",
   "metadata": {
    "execution": {
     "iopub.execute_input": "2024-03-09T15:26:43.359349Z",
     "iopub.status.busy": "2024-03-09T15:26:43.358624Z",
     "iopub.status.idle": "2024-03-09T15:26:43.363526Z",
     "shell.execute_reply": "2024-03-09T15:26:43.362590Z"
    },
    "papermill": {
     "duration": 0.015163,
     "end_time": "2024-03-09T15:26:43.365841",
     "exception": false,
     "start_time": "2024-03-09T15:26:43.350678",
     "status": "completed"
    },
    "tags": []
   },
   "outputs": [],
   "source": [
    "train_df=train_raw"
   ]
  },
  {
   "cell_type": "code",
   "execution_count": 5,
   "id": "0b3d54b9",
   "metadata": {
    "execution": {
     "iopub.execute_input": "2024-03-09T15:26:43.381101Z",
     "iopub.status.busy": "2024-03-09T15:26:43.380113Z",
     "iopub.status.idle": "2024-03-09T15:26:43.438927Z",
     "shell.execute_reply": "2024-03-09T15:26:43.437676Z"
    },
    "papermill": {
     "duration": 0.068879,
     "end_time": "2024-03-09T15:26:43.441207",
     "exception": false,
     "start_time": "2024-03-09T15:26:43.372328",
     "status": "completed"
    },
    "tags": []
   },
   "outputs": [
    {
     "name": "stderr",
     "output_type": "stream",
     "text": [
      "/tmp/ipykernel_18/902675022.py:10: FutureWarning: Downcasting behavior in `replace` is deprecated and will be removed in a future version. To retain the old behavior, explicitly call `result.infer_objects(copy=False)`. To opt-in to the future behavior, set `pd.set_option('future.no_silent_downcasting', True)`\n",
      "  train_df['CabinSide'] = train_df['CabinSide'].replace({'S': 0, 'P': 1})\n",
      "/tmp/ipykernel_18/902675022.py:22: FutureWarning: Downcasting behavior in `replace` is deprecated and will be removed in a future version. To retain the old behavior, explicitly call `result.infer_objects(copy=False)`. To opt-in to the future behavior, set `pd.set_option('future.no_silent_downcasting', True)`\n",
      "  train_df['HomePlanet'] = train_df['HomePlanet'].replace({'Europa': 0, 'Earth': 1, 'Mars': 2})\n"
     ]
    }
   ],
   "source": [
    "train_labels = train_raw['Transported']\n",
    "train_df[['CabinDeck', 'CabinNum', 'CabinSide']] = train_df['Cabin'].str.split('/', n=2, expand=True)\n",
    "train_df = pd.concat([train_df,pd.get_dummies(train_df.Destination)], axis = 1)\n",
    "train_df = train_df.drop(['Name','Destination','Cabin'],axis=1)\n",
    "train_df.dropna(inplace=True)\n",
    "\n",
    "train_df['CryoSleep'] = train_df['CryoSleep'].astype(bool)\n",
    "train_df['TotalSpend'] = train_df['RoomService']+train_df['FoodCourt']+train_df['ShoppingMall']+train_df['Spa']+train_df['VRDeck']\n",
    "train_df['VIP'] = train_df['VIP'].astype(bool)\n",
    "train_df['CabinSide'] = train_df['CabinSide'].replace({'S': 0, 'P': 1})\n",
    "train_df['CabinNum'] = train_df['CabinNum'].astype(int)\n",
    "train_df['CabinDeck'] = train_df['CabinSide'].replace(\n",
    "    {'A': 0,\n",
    "     'B': 1,\n",
    "     'C': 2,\n",
    "     'D': 3,\n",
    "     'E': 4,\n",
    "     'F': 5,\n",
    "     'G': 6,\n",
    "     'T': 7\n",
    "    })\n",
    "train_df['HomePlanet'] = train_df['HomePlanet'].replace({'Europa': 0, 'Earth': 1, 'Mars': 2})"
   ]
  },
  {
   "cell_type": "code",
   "execution_count": 6,
   "id": "c7607893",
   "metadata": {
    "execution": {
     "iopub.execute_input": "2024-03-09T15:26:43.456848Z",
     "iopub.status.busy": "2024-03-09T15:26:43.456265Z",
     "iopub.status.idle": "2024-03-09T15:26:43.462548Z",
     "shell.execute_reply": "2024-03-09T15:26:43.461418Z"
    },
    "papermill": {
     "duration": 0.016953,
     "end_time": "2024-03-09T15:26:43.464834",
     "exception": false,
     "start_time": "2024-03-09T15:26:43.447881",
     "status": "completed"
    },
    "tags": []
   },
   "outputs": [],
   "source": [
    "#train_df[train_df['HomePlanet'].isnull()]\n",
    "#df1 = train_df[train_df.isna().any(axis=1)]"
   ]
  },
  {
   "cell_type": "code",
   "execution_count": 7,
   "id": "7ecebb68",
   "metadata": {
    "execution": {
     "iopub.execute_input": "2024-03-09T15:26:43.480859Z",
     "iopub.status.busy": "2024-03-09T15:26:43.480453Z",
     "iopub.status.idle": "2024-03-09T15:26:43.513673Z",
     "shell.execute_reply": "2024-03-09T15:26:43.512629Z"
    },
    "papermill": {
     "duration": 0.044412,
     "end_time": "2024-03-09T15:26:43.515843",
     "exception": false,
     "start_time": "2024-03-09T15:26:43.471431",
     "status": "completed"
    },
    "tags": []
   },
   "outputs": [
    {
     "data": {
      "text/html": [
       "<div>\n",
       "<style scoped>\n",
       "    .dataframe tbody tr th:only-of-type {\n",
       "        vertical-align: middle;\n",
       "    }\n",
       "\n",
       "    .dataframe tbody tr th {\n",
       "        vertical-align: top;\n",
       "    }\n",
       "\n",
       "    .dataframe thead th {\n",
       "        text-align: right;\n",
       "    }\n",
       "</style>\n",
       "<table border=\"1\" class=\"dataframe\">\n",
       "  <thead>\n",
       "    <tr style=\"text-align: right;\">\n",
       "      <th></th>\n",
       "      <th>PassengerId</th>\n",
       "      <th>HomePlanet</th>\n",
       "      <th>CryoSleep</th>\n",
       "      <th>Age</th>\n",
       "      <th>VIP</th>\n",
       "      <th>RoomService</th>\n",
       "      <th>FoodCourt</th>\n",
       "      <th>ShoppingMall</th>\n",
       "      <th>Spa</th>\n",
       "      <th>VRDeck</th>\n",
       "      <th>Transported</th>\n",
       "      <th>CabinDeck</th>\n",
       "      <th>CabinNum</th>\n",
       "      <th>CabinSide</th>\n",
       "      <th>55 Cancri e</th>\n",
       "      <th>PSO J318.5-22</th>\n",
       "      <th>TRAPPIST-1e</th>\n",
       "      <th>TotalSpend</th>\n",
       "    </tr>\n",
       "  </thead>\n",
       "  <tbody>\n",
       "    <tr>\n",
       "      <th>0</th>\n",
       "      <td>0001_01</td>\n",
       "      <td>0</td>\n",
       "      <td>False</td>\n",
       "      <td>39.0</td>\n",
       "      <td>False</td>\n",
       "      <td>0.0</td>\n",
       "      <td>0.0</td>\n",
       "      <td>0.0</td>\n",
       "      <td>0.0</td>\n",
       "      <td>0.0</td>\n",
       "      <td>False</td>\n",
       "      <td>1</td>\n",
       "      <td>0</td>\n",
       "      <td>1</td>\n",
       "      <td>False</td>\n",
       "      <td>False</td>\n",
       "      <td>True</td>\n",
       "      <td>0.0</td>\n",
       "    </tr>\n",
       "    <tr>\n",
       "      <th>1</th>\n",
       "      <td>0002_01</td>\n",
       "      <td>1</td>\n",
       "      <td>False</td>\n",
       "      <td>24.0</td>\n",
       "      <td>False</td>\n",
       "      <td>109.0</td>\n",
       "      <td>9.0</td>\n",
       "      <td>25.0</td>\n",
       "      <td>549.0</td>\n",
       "      <td>44.0</td>\n",
       "      <td>True</td>\n",
       "      <td>0</td>\n",
       "      <td>0</td>\n",
       "      <td>0</td>\n",
       "      <td>False</td>\n",
       "      <td>False</td>\n",
       "      <td>True</td>\n",
       "      <td>736.0</td>\n",
       "    </tr>\n",
       "    <tr>\n",
       "      <th>2</th>\n",
       "      <td>0003_01</td>\n",
       "      <td>0</td>\n",
       "      <td>False</td>\n",
       "      <td>58.0</td>\n",
       "      <td>True</td>\n",
       "      <td>43.0</td>\n",
       "      <td>3576.0</td>\n",
       "      <td>0.0</td>\n",
       "      <td>6715.0</td>\n",
       "      <td>49.0</td>\n",
       "      <td>False</td>\n",
       "      <td>0</td>\n",
       "      <td>0</td>\n",
       "      <td>0</td>\n",
       "      <td>False</td>\n",
       "      <td>False</td>\n",
       "      <td>True</td>\n",
       "      <td>10383.0</td>\n",
       "    </tr>\n",
       "    <tr>\n",
       "      <th>3</th>\n",
       "      <td>0003_02</td>\n",
       "      <td>0</td>\n",
       "      <td>False</td>\n",
       "      <td>33.0</td>\n",
       "      <td>False</td>\n",
       "      <td>0.0</td>\n",
       "      <td>1283.0</td>\n",
       "      <td>371.0</td>\n",
       "      <td>3329.0</td>\n",
       "      <td>193.0</td>\n",
       "      <td>False</td>\n",
       "      <td>0</td>\n",
       "      <td>0</td>\n",
       "      <td>0</td>\n",
       "      <td>False</td>\n",
       "      <td>False</td>\n",
       "      <td>True</td>\n",
       "      <td>5176.0</td>\n",
       "    </tr>\n",
       "    <tr>\n",
       "      <th>4</th>\n",
       "      <td>0004_01</td>\n",
       "      <td>1</td>\n",
       "      <td>False</td>\n",
       "      <td>16.0</td>\n",
       "      <td>False</td>\n",
       "      <td>303.0</td>\n",
       "      <td>70.0</td>\n",
       "      <td>151.0</td>\n",
       "      <td>565.0</td>\n",
       "      <td>2.0</td>\n",
       "      <td>True</td>\n",
       "      <td>0</td>\n",
       "      <td>1</td>\n",
       "      <td>0</td>\n",
       "      <td>False</td>\n",
       "      <td>False</td>\n",
       "      <td>True</td>\n",
       "      <td>1091.0</td>\n",
       "    </tr>\n",
       "    <tr>\n",
       "      <th>...</th>\n",
       "      <td>...</td>\n",
       "      <td>...</td>\n",
       "      <td>...</td>\n",
       "      <td>...</td>\n",
       "      <td>...</td>\n",
       "      <td>...</td>\n",
       "      <td>...</td>\n",
       "      <td>...</td>\n",
       "      <td>...</td>\n",
       "      <td>...</td>\n",
       "      <td>...</td>\n",
       "      <td>...</td>\n",
       "      <td>...</td>\n",
       "      <td>...</td>\n",
       "      <td>...</td>\n",
       "      <td>...</td>\n",
       "      <td>...</td>\n",
       "      <td>...</td>\n",
       "    </tr>\n",
       "    <tr>\n",
       "      <th>8688</th>\n",
       "      <td>9276_01</td>\n",
       "      <td>0</td>\n",
       "      <td>False</td>\n",
       "      <td>41.0</td>\n",
       "      <td>True</td>\n",
       "      <td>0.0</td>\n",
       "      <td>6819.0</td>\n",
       "      <td>0.0</td>\n",
       "      <td>1643.0</td>\n",
       "      <td>74.0</td>\n",
       "      <td>False</td>\n",
       "      <td>1</td>\n",
       "      <td>98</td>\n",
       "      <td>1</td>\n",
       "      <td>True</td>\n",
       "      <td>False</td>\n",
       "      <td>False</td>\n",
       "      <td>8536.0</td>\n",
       "    </tr>\n",
       "    <tr>\n",
       "      <th>8689</th>\n",
       "      <td>9278_01</td>\n",
       "      <td>1</td>\n",
       "      <td>True</td>\n",
       "      <td>18.0</td>\n",
       "      <td>False</td>\n",
       "      <td>0.0</td>\n",
       "      <td>0.0</td>\n",
       "      <td>0.0</td>\n",
       "      <td>0.0</td>\n",
       "      <td>0.0</td>\n",
       "      <td>False</td>\n",
       "      <td>0</td>\n",
       "      <td>1499</td>\n",
       "      <td>0</td>\n",
       "      <td>False</td>\n",
       "      <td>True</td>\n",
       "      <td>False</td>\n",
       "      <td>0.0</td>\n",
       "    </tr>\n",
       "    <tr>\n",
       "      <th>8690</th>\n",
       "      <td>9279_01</td>\n",
       "      <td>1</td>\n",
       "      <td>False</td>\n",
       "      <td>26.0</td>\n",
       "      <td>False</td>\n",
       "      <td>0.0</td>\n",
       "      <td>0.0</td>\n",
       "      <td>1872.0</td>\n",
       "      <td>1.0</td>\n",
       "      <td>0.0</td>\n",
       "      <td>True</td>\n",
       "      <td>0</td>\n",
       "      <td>1500</td>\n",
       "      <td>0</td>\n",
       "      <td>False</td>\n",
       "      <td>False</td>\n",
       "      <td>True</td>\n",
       "      <td>1873.0</td>\n",
       "    </tr>\n",
       "    <tr>\n",
       "      <th>8691</th>\n",
       "      <td>9280_01</td>\n",
       "      <td>0</td>\n",
       "      <td>False</td>\n",
       "      <td>32.0</td>\n",
       "      <td>False</td>\n",
       "      <td>0.0</td>\n",
       "      <td>1049.0</td>\n",
       "      <td>0.0</td>\n",
       "      <td>353.0</td>\n",
       "      <td>3235.0</td>\n",
       "      <td>False</td>\n",
       "      <td>0</td>\n",
       "      <td>608</td>\n",
       "      <td>0</td>\n",
       "      <td>True</td>\n",
       "      <td>False</td>\n",
       "      <td>False</td>\n",
       "      <td>4637.0</td>\n",
       "    </tr>\n",
       "    <tr>\n",
       "      <th>8692</th>\n",
       "      <td>9280_02</td>\n",
       "      <td>0</td>\n",
       "      <td>False</td>\n",
       "      <td>44.0</td>\n",
       "      <td>False</td>\n",
       "      <td>126.0</td>\n",
       "      <td>4688.0</td>\n",
       "      <td>0.0</td>\n",
       "      <td>0.0</td>\n",
       "      <td>12.0</td>\n",
       "      <td>True</td>\n",
       "      <td>0</td>\n",
       "      <td>608</td>\n",
       "      <td>0</td>\n",
       "      <td>False</td>\n",
       "      <td>False</td>\n",
       "      <td>True</td>\n",
       "      <td>4826.0</td>\n",
       "    </tr>\n",
       "  </tbody>\n",
       "</table>\n",
       "<p>6913 rows × 18 columns</p>\n",
       "</div>"
      ],
      "text/plain": [
       "     PassengerId  HomePlanet  CryoSleep   Age    VIP  RoomService  FoodCourt  \\\n",
       "0        0001_01           0      False  39.0  False          0.0        0.0   \n",
       "1        0002_01           1      False  24.0  False        109.0        9.0   \n",
       "2        0003_01           0      False  58.0   True         43.0     3576.0   \n",
       "3        0003_02           0      False  33.0  False          0.0     1283.0   \n",
       "4        0004_01           1      False  16.0  False        303.0       70.0   \n",
       "...          ...         ...        ...   ...    ...          ...        ...   \n",
       "8688     9276_01           0      False  41.0   True          0.0     6819.0   \n",
       "8689     9278_01           1       True  18.0  False          0.0        0.0   \n",
       "8690     9279_01           1      False  26.0  False          0.0        0.0   \n",
       "8691     9280_01           0      False  32.0  False          0.0     1049.0   \n",
       "8692     9280_02           0      False  44.0  False        126.0     4688.0   \n",
       "\n",
       "      ShoppingMall     Spa  VRDeck  Transported  CabinDeck  CabinNum  \\\n",
       "0              0.0     0.0     0.0        False          1         0   \n",
       "1             25.0   549.0    44.0         True          0         0   \n",
       "2              0.0  6715.0    49.0        False          0         0   \n",
       "3            371.0  3329.0   193.0        False          0         0   \n",
       "4            151.0   565.0     2.0         True          0         1   \n",
       "...            ...     ...     ...          ...        ...       ...   \n",
       "8688           0.0  1643.0    74.0        False          1        98   \n",
       "8689           0.0     0.0     0.0        False          0      1499   \n",
       "8690        1872.0     1.0     0.0         True          0      1500   \n",
       "8691           0.0   353.0  3235.0        False          0       608   \n",
       "8692           0.0     0.0    12.0         True          0       608   \n",
       "\n",
       "      CabinSide  55 Cancri e  PSO J318.5-22  TRAPPIST-1e  TotalSpend  \n",
       "0             1        False          False         True         0.0  \n",
       "1             0        False          False         True       736.0  \n",
       "2             0        False          False         True     10383.0  \n",
       "3             0        False          False         True      5176.0  \n",
       "4             0        False          False         True      1091.0  \n",
       "...         ...          ...            ...          ...         ...  \n",
       "8688          1         True          False        False      8536.0  \n",
       "8689          0        False           True        False         0.0  \n",
       "8690          0        False          False         True      1873.0  \n",
       "8691          0         True          False        False      4637.0  \n",
       "8692          0        False          False         True      4826.0  \n",
       "\n",
       "[6913 rows x 18 columns]"
      ]
     },
     "execution_count": 7,
     "metadata": {},
     "output_type": "execute_result"
    }
   ],
   "source": [
    "train_df"
   ]
  },
  {
   "cell_type": "markdown",
   "id": "b0620dbe",
   "metadata": {
    "papermill": {
     "duration": 0.007056,
     "end_time": "2024-03-09T15:26:43.530282",
     "exception": false,
     "start_time": "2024-03-09T15:26:43.523226",
     "status": "completed"
    },
    "tags": []
   },
   "source": [
    "# Dataset Split"
   ]
  },
  {
   "cell_type": "code",
   "execution_count": 8,
   "id": "86e35ef0",
   "metadata": {
    "execution": {
     "iopub.execute_input": "2024-03-09T15:26:43.546366Z",
     "iopub.status.busy": "2024-03-09T15:26:43.545979Z",
     "iopub.status.idle": "2024-03-09T15:26:43.551283Z",
     "shell.execute_reply": "2024-03-09T15:26:43.550064Z"
    },
    "papermill": {
     "duration": 0.015767,
     "end_time": "2024-03-09T15:26:43.553385",
     "exception": false,
     "start_time": "2024-03-09T15:26:43.537618",
     "status": "completed"
    },
    "tags": []
   },
   "outputs": [],
   "source": [
    "def split_dataset(dataset, test_ratio=0.25):\n",
    "  test_indices = np.random.rand(len(dataset)) < test_ratio\n",
    "  return dataset[~test_indices], dataset[test_indices]"
   ]
  },
  {
   "cell_type": "code",
   "execution_count": 9,
   "id": "ccdc1027",
   "metadata": {
    "execution": {
     "iopub.execute_input": "2024-03-09T15:26:43.569210Z",
     "iopub.status.busy": "2024-03-09T15:26:43.568839Z",
     "iopub.status.idle": "2024-03-09T15:26:43.576407Z",
     "shell.execute_reply": "2024-03-09T15:26:43.575391Z"
    },
    "papermill": {
     "duration": 0.017868,
     "end_time": "2024-03-09T15:26:43.578393",
     "exception": false,
     "start_time": "2024-03-09T15:26:43.560525",
     "status": "completed"
    },
    "tags": []
   },
   "outputs": [
    {
     "name": "stdout",
     "output_type": "stream",
     "text": [
      "5184 examples in training, 1729 examples in testing.\n"
     ]
    }
   ],
   "source": [
    "dft, dfv = split_dataset(train_df)\n",
    "print(\"{} examples in training, {} examples in testing.\".format(\n",
    "    len(dft), len(dfv)))"
   ]
  },
  {
   "cell_type": "code",
   "execution_count": 10,
   "id": "161077d7",
   "metadata": {
    "execution": {
     "iopub.execute_input": "2024-03-09T15:26:43.594661Z",
     "iopub.status.busy": "2024-03-09T15:26:43.594230Z",
     "iopub.status.idle": "2024-03-09T15:26:43.602079Z",
     "shell.execute_reply": "2024-03-09T15:26:43.601017Z"
    },
    "papermill": {
     "duration": 0.018371,
     "end_time": "2024-03-09T15:26:43.604126",
     "exception": false,
     "start_time": "2024-03-09T15:26:43.585755",
     "status": "completed"
    },
    "tags": []
   },
   "outputs": [],
   "source": [
    "y= dft['Transported']\n",
    "Y=dfv['Transported']\n",
    "x = dfv.drop(['Transported','PassengerId'],axis=1)\n",
    "X=dft.drop(['Transported','PassengerId'],axis=1)"
   ]
  },
  {
   "cell_type": "markdown",
   "id": "2fc4c83e",
   "metadata": {
    "papermill": {
     "duration": 0.006989,
     "end_time": "2024-03-09T15:26:43.618773",
     "exception": false,
     "start_time": "2024-03-09T15:26:43.611784",
     "status": "completed"
    },
    "tags": []
   },
   "source": [
    "# Optuna HP Tuning"
   ]
  },
  {
   "cell_type": "code",
   "execution_count": 11,
   "id": "24cffcdb",
   "metadata": {
    "execution": {
     "iopub.execute_input": "2024-03-09T15:26:43.635282Z",
     "iopub.status.busy": "2024-03-09T15:26:43.634903Z",
     "iopub.status.idle": "2024-03-09T15:26:43.963830Z",
     "shell.execute_reply": "2024-03-09T15:26:43.962886Z"
    },
    "papermill": {
     "duration": 0.340074,
     "end_time": "2024-03-09T15:26:43.966063",
     "exception": false,
     "start_time": "2024-03-09T15:26:43.625989",
     "status": "completed"
    },
    "tags": []
   },
   "outputs": [
    {
     "name": "stderr",
     "output_type": "stream",
     "text": [
      "[I 2024-03-09 15:26:43,675] A new study created in memory with name: no-name-846c3c9f-b57c-4268-b281-281b4664aae9\n",
      "/opt/conda/lib/python3.10/site-packages/xgboost/core.py:160: UserWarning: [15:26:43] WARNING: /workspace/src/learner.cc:742: \n",
      "Parameters: { \"n_estimators\" } are not used.\n",
      "\n",
      "  warnings.warn(smsg, UserWarning)\n",
      "[I 2024-03-09 15:26:43,757] Trial 0 finished with value: 0.4875650665124349 and parameters: {'booster': 'dart', 'gamma': 0.0001285693809477981, 'max_depth': 100, 'n_estimators': 41, 'grow_policy': 'depthwise', 'learning_rate': 0.0003805236650167546}. Best is trial 0 with value: 0.4875650665124349.\n",
      "/opt/conda/lib/python3.10/site-packages/xgboost/core.py:160: UserWarning: [15:26:43] WARNING: /workspace/src/learner.cc:742: \n",
      "Parameters: { \"n_estimators\" } are not used.\n",
      "\n",
      "  warnings.warn(smsg, UserWarning)\n",
      "[I 2024-03-09 15:26:43,805] Trial 1 finished with value: 0.6130711393869288 and parameters: {'booster': 'dart', 'gamma': 0.03377556249019473, 'max_depth': 66, 'n_estimators': 2, 'grow_policy': 'depthwise', 'learning_rate': 0.0017737612237571853}. Best is trial 1 with value: 0.6130711393869288.\n",
      "/opt/conda/lib/python3.10/site-packages/xgboost/core.py:160: UserWarning: [15:26:43] WARNING: /workspace/src/learner.cc:742: \n",
      "Parameters: { \"n_estimators\" } are not used.\n",
      "\n",
      "  warnings.warn(smsg, UserWarning)\n",
      "[I 2024-03-09 15:26:43,850] Trial 2 finished with value: 0.4875650665124349 and parameters: {'booster': 'gbtree', 'gamma': 1.286702207756707e-07, 'max_depth': 47, 'n_estimators': 87, 'grow_policy': 'lossguide', 'learning_rate': 9.728931965312262e-07}. Best is trial 1 with value: 0.6130711393869288.\n",
      "/opt/conda/lib/python3.10/site-packages/xgboost/core.py:160: UserWarning: [15:26:43] WARNING: /workspace/src/learner.cc:742: \n",
      "Parameters: { \"n_estimators\" } are not used.\n",
      "\n",
      "  warnings.warn(smsg, UserWarning)\n",
      "[I 2024-03-09 15:26:43,920] Trial 3 finished with value: 0.4875650665124349 and parameters: {'booster': 'dart', 'gamma': 5.848121167981328e-06, 'max_depth': 61, 'n_estimators': 76, 'grow_policy': 'lossguide', 'learning_rate': 2.469537577092625e-07}. Best is trial 1 with value: 0.6130711393869288.\n",
      "/opt/conda/lib/python3.10/site-packages/xgboost/core.py:160: UserWarning: [15:26:43] WARNING: /workspace/src/learner.cc:742: \n",
      "Parameters: { \"n_estimators\" } are not used.\n",
      "\n",
      "  warnings.warn(smsg, UserWarning)\n",
      "[I 2024-03-09 15:26:43,959] Trial 4 finished with value: 0.4875650665124349 and parameters: {'booster': 'dart', 'gamma': 0.006943047496219299, 'max_depth': 43, 'n_estimators': 57, 'grow_policy': 'depthwise', 'learning_rate': 1.462036342611409e-07}. Best is trial 1 with value: 0.6130711393869288.\n"
     ]
    }
   ],
   "source": [
    "dtrain = xgb.DMatrix(X, label=dft['Transported'])\n",
    "dvalid = xgb.DMatrix(x, label=dfv['Transported'])\n",
    "\n",
    "def objective(trial):\n",
    "    optuna.logging.set_verbosity(optuna.logging.DEBUG)\n",
    "    param = {\n",
    "        'objective': 'binary:logistic',\n",
    "        'booster': trial.suggest_categorical('booster', ['gbtree', 'gblinear', 'dart']),\n",
    "        'gamma': trial.suggest_float('gamma', 1e-8, 1.0, log=True),\n",
    "        'max_depth': trial.suggest_int('max_depth',1, 100),\n",
    "        'max_leaves': trial.suggest_int('max_depth',1, 100),\n",
    "        'n_estimators': trial.suggest_int('n_estimators',1, 100),\n",
    "        'grow_policy': trial.suggest_categorical('grow_policy', ['depthwise', 'lossguide']),\n",
    "        'learning_rate': trial.suggest_float('learning_rate', 1e-8, 1.0, log=True)\n",
    "    }    \n",
    "    bst = xgb.train(param, dtrain)\n",
    "    preds = bst.predict(dvalid)\n",
    "    pred_labels = np.rint(preds)\n",
    "    accuracy = sklearn.metrics.accuracy_score(dfv['Transported'], pred_labels)\n",
    "    return accuracy\n",
    "\n",
    "study = optuna.create_study(direction='maximize')\n",
    "study.optimize(objective, n_trials=5)"
   ]
  },
  {
   "cell_type": "markdown",
   "id": "a16f7064",
   "metadata": {
    "papermill": {
     "duration": 0.007633,
     "end_time": "2024-03-09T15:26:43.981504",
     "exception": false,
     "start_time": "2024-03-09T15:26:43.973871",
     "status": "completed"
    },
    "tags": []
   },
   "source": [
    "# Model"
   ]
  },
  {
   "cell_type": "code",
   "execution_count": 12,
   "id": "f5c3060c",
   "metadata": {
    "execution": {
     "iopub.execute_input": "2024-03-09T15:26:43.998625Z",
     "iopub.status.busy": "2024-03-09T15:26:43.998238Z",
     "iopub.status.idle": "2024-03-09T15:26:44.002160Z",
     "shell.execute_reply": "2024-03-09T15:26:44.001267Z"
    },
    "papermill": {
     "duration": 0.01497,
     "end_time": "2024-03-09T15:26:44.004247",
     "exception": false,
     "start_time": "2024-03-09T15:26:43.989277",
     "status": "completed"
    },
    "tags": []
   },
   "outputs": [],
   "source": [
    "#Trial 358 finished with value: 0.8149405772495756 and parameters: {'booster': 'gbtree', 'gamma': 0.030185106394347308, 'max_depth': 5, 'n_estimators': 93, 'grow_policy': 'lossguide', 'learning_rate': 0.571705231643359}\n",
    "#Trial 188 finished with value: 0.8184421534936999 and parameters: {'booster': 'dart', 'gamma': 0.0001266588948421105, 'max_depth': 33, 'n_estimators': 30, 'grow_policy': 'depthwise', 'learning_rate': 0.3888437378144605}"
   ]
  },
  {
   "cell_type": "code",
   "execution_count": 13,
   "id": "42e53703",
   "metadata": {
    "execution": {
     "iopub.execute_input": "2024-03-09T15:26:44.021691Z",
     "iopub.status.busy": "2024-03-09T15:26:44.021240Z",
     "iopub.status.idle": "2024-03-09T15:26:44.026504Z",
     "shell.execute_reply": "2024-03-09T15:26:44.025619Z"
    },
    "papermill": {
     "duration": 0.016423,
     "end_time": "2024-03-09T15:26:44.028585",
     "exception": false,
     "start_time": "2024-03-09T15:26:44.012162",
     "status": "completed"
    },
    "tags": []
   },
   "outputs": [],
   "source": [
    "model = xgb.XGBRFClassifier(\n",
    "    booster='dart',\n",
    "    device='cpu',\n",
    "    eval_metric=sklearn.metrics.mean_absolute_percentage_error,\n",
    "    grow_policy = 'depthwise',\n",
    "    gamma = 0.0001266588948421105,\n",
    "    max_depth= 33,\n",
    "    n_estimators = 30,\n",
    "    learning_rate = 0.3888437378144605\n",
    ")"
   ]
  },
  {
   "cell_type": "code",
   "execution_count": 14,
   "id": "088c4436",
   "metadata": {
    "execution": {
     "iopub.execute_input": "2024-03-09T15:26:44.046152Z",
     "iopub.status.busy": "2024-03-09T15:26:44.045170Z",
     "iopub.status.idle": "2024-03-09T15:26:44.451854Z",
     "shell.execute_reply": "2024-03-09T15:26:44.450781Z"
    },
    "papermill": {
     "duration": 0.417817,
     "end_time": "2024-03-09T15:26:44.454168",
     "exception": false,
     "start_time": "2024-03-09T15:26:44.036351",
     "status": "completed"
    },
    "tags": []
   },
   "outputs": [
    {
     "name": "stdout",
     "output_type": "stream",
     "text": [
      "[0]\tvalidation_0-logloss:0.47886\tvalidation_0-mean_absolute_percentage_error:846370617425920.00000\tvalidation_1-logloss:0.54085\tvalidation_1-mean_absolute_percentage_error:964593484562432.00000\n"
     ]
    },
    {
     "data": {
      "text/html": [
       "<style>#sk-container-id-1 {color: black;background-color: white;}#sk-container-id-1 pre{padding: 0;}#sk-container-id-1 div.sk-toggleable {background-color: white;}#sk-container-id-1 label.sk-toggleable__label {cursor: pointer;display: block;width: 100%;margin-bottom: 0;padding: 0.3em;box-sizing: border-box;text-align: center;}#sk-container-id-1 label.sk-toggleable__label-arrow:before {content: \"▸\";float: left;margin-right: 0.25em;color: #696969;}#sk-container-id-1 label.sk-toggleable__label-arrow:hover:before {color: black;}#sk-container-id-1 div.sk-estimator:hover label.sk-toggleable__label-arrow:before {color: black;}#sk-container-id-1 div.sk-toggleable__content {max-height: 0;max-width: 0;overflow: hidden;text-align: left;background-color: #f0f8ff;}#sk-container-id-1 div.sk-toggleable__content pre {margin: 0.2em;color: black;border-radius: 0.25em;background-color: #f0f8ff;}#sk-container-id-1 input.sk-toggleable__control:checked~div.sk-toggleable__content {max-height: 200px;max-width: 100%;overflow: auto;}#sk-container-id-1 input.sk-toggleable__control:checked~label.sk-toggleable__label-arrow:before {content: \"▾\";}#sk-container-id-1 div.sk-estimator input.sk-toggleable__control:checked~label.sk-toggleable__label {background-color: #d4ebff;}#sk-container-id-1 div.sk-label input.sk-toggleable__control:checked~label.sk-toggleable__label {background-color: #d4ebff;}#sk-container-id-1 input.sk-hidden--visually {border: 0;clip: rect(1px 1px 1px 1px);clip: rect(1px, 1px, 1px, 1px);height: 1px;margin: -1px;overflow: hidden;padding: 0;position: absolute;width: 1px;}#sk-container-id-1 div.sk-estimator {font-family: monospace;background-color: #f0f8ff;border: 1px dotted black;border-radius: 0.25em;box-sizing: border-box;margin-bottom: 0.5em;}#sk-container-id-1 div.sk-estimator:hover {background-color: #d4ebff;}#sk-container-id-1 div.sk-parallel-item::after {content: \"\";width: 100%;border-bottom: 1px solid gray;flex-grow: 1;}#sk-container-id-1 div.sk-label:hover label.sk-toggleable__label {background-color: #d4ebff;}#sk-container-id-1 div.sk-serial::before {content: \"\";position: absolute;border-left: 1px solid gray;box-sizing: border-box;top: 0;bottom: 0;left: 50%;z-index: 0;}#sk-container-id-1 div.sk-serial {display: flex;flex-direction: column;align-items: center;background-color: white;padding-right: 0.2em;padding-left: 0.2em;position: relative;}#sk-container-id-1 div.sk-item {position: relative;z-index: 1;}#sk-container-id-1 div.sk-parallel {display: flex;align-items: stretch;justify-content: center;background-color: white;position: relative;}#sk-container-id-1 div.sk-item::before, #sk-container-id-1 div.sk-parallel-item::before {content: \"\";position: absolute;border-left: 1px solid gray;box-sizing: border-box;top: 0;bottom: 0;left: 50%;z-index: -1;}#sk-container-id-1 div.sk-parallel-item {display: flex;flex-direction: column;z-index: 1;position: relative;background-color: white;}#sk-container-id-1 div.sk-parallel-item:first-child::after {align-self: flex-end;width: 50%;}#sk-container-id-1 div.sk-parallel-item:last-child::after {align-self: flex-start;width: 50%;}#sk-container-id-1 div.sk-parallel-item:only-child::after {width: 0;}#sk-container-id-1 div.sk-dashed-wrapped {border: 1px dashed gray;margin: 0 0.4em 0.5em 0.4em;box-sizing: border-box;padding-bottom: 0.4em;background-color: white;}#sk-container-id-1 div.sk-label label {font-family: monospace;font-weight: bold;display: inline-block;line-height: 1.2em;}#sk-container-id-1 div.sk-label-container {text-align: center;}#sk-container-id-1 div.sk-container {/* jupyter's `normalize.less` sets `[hidden] { display: none; }` but bootstrap.min.css set `[hidden] { display: none !important; }` so we also need the `!important` here to be able to override the default hidden behavior on the sphinx rendered scikit-learn.org. See: https://github.com/scikit-learn/scikit-learn/issues/21755 */display: inline-block !important;position: relative;}#sk-container-id-1 div.sk-text-repr-fallback {display: none;}</style><div id=\"sk-container-id-1\" class=\"sk-top-container\"><div class=\"sk-text-repr-fallback\"><pre>XGBRFClassifier(base_score=None, booster=&#x27;dart&#x27;, callbacks=None,\n",
       "                colsample_bylevel=None, colsample_bytree=None, device=&#x27;cpu&#x27;,\n",
       "                early_stopping_rounds=None, enable_categorical=False,\n",
       "                eval_metric=&lt;function mean_absolute_percentage_error at 0x7e04541d6290&gt;,\n",
       "                feature_types=None, gamma=0.0001266588948421105,\n",
       "                grow_policy=&#x27;depthwise&#x27;, importance_type=None,\n",
       "                interaction_constraints=None, learning_rate=0.3888437378144605,\n",
       "                max_bin=None, max_cat_threshold=None, max_cat_to_onehot=None,\n",
       "                max_delta_step=None, max_depth=33, max_leaves=None,\n",
       "                min_child_weight=None, missing=nan, monotone_constraints=None,\n",
       "                multi_strategy=None, n_estimators=30, n_jobs=None,\n",
       "                num_parallel_tree=None, objective=&#x27;binary:logistic&#x27;,\n",
       "                random_state=None, ...)</pre><b>In a Jupyter environment, please rerun this cell to show the HTML representation or trust the notebook. <br />On GitHub, the HTML representation is unable to render, please try loading this page with nbviewer.org.</b></div><div class=\"sk-container\" hidden><div class=\"sk-item\"><div class=\"sk-estimator sk-toggleable\"><input class=\"sk-toggleable__control sk-hidden--visually\" id=\"sk-estimator-id-1\" type=\"checkbox\" checked><label for=\"sk-estimator-id-1\" class=\"sk-toggleable__label sk-toggleable__label-arrow\">XGBRFClassifier</label><div class=\"sk-toggleable__content\"><pre>XGBRFClassifier(base_score=None, booster=&#x27;dart&#x27;, callbacks=None,\n",
       "                colsample_bylevel=None, colsample_bytree=None, device=&#x27;cpu&#x27;,\n",
       "                early_stopping_rounds=None, enable_categorical=False,\n",
       "                eval_metric=&lt;function mean_absolute_percentage_error at 0x7e04541d6290&gt;,\n",
       "                feature_types=None, gamma=0.0001266588948421105,\n",
       "                grow_policy=&#x27;depthwise&#x27;, importance_type=None,\n",
       "                interaction_constraints=None, learning_rate=0.3888437378144605,\n",
       "                max_bin=None, max_cat_threshold=None, max_cat_to_onehot=None,\n",
       "                max_delta_step=None, max_depth=33, max_leaves=None,\n",
       "                min_child_weight=None, missing=nan, monotone_constraints=None,\n",
       "                multi_strategy=None, n_estimators=30, n_jobs=None,\n",
       "                num_parallel_tree=None, objective=&#x27;binary:logistic&#x27;,\n",
       "                random_state=None, ...)</pre></div></div></div></div></div>"
      ],
      "text/plain": [
       "XGBRFClassifier(base_score=None, booster='dart', callbacks=None,\n",
       "                colsample_bylevel=None, colsample_bytree=None, device='cpu',\n",
       "                early_stopping_rounds=None, enable_categorical=False,\n",
       "                eval_metric=<function mean_absolute_percentage_error at 0x7e04541d6290>,\n",
       "                feature_types=None, gamma=0.0001266588948421105,\n",
       "                grow_policy='depthwise', importance_type=None,\n",
       "                interaction_constraints=None, learning_rate=0.3888437378144605,\n",
       "                max_bin=None, max_cat_threshold=None, max_cat_to_onehot=None,\n",
       "                max_delta_step=None, max_depth=33, max_leaves=None,\n",
       "                min_child_weight=None, missing=nan, monotone_constraints=None,\n",
       "                multi_strategy=None, n_estimators=30, n_jobs=None,\n",
       "                num_parallel_tree=None, objective='binary:logistic',\n",
       "                random_state=None, ...)"
      ]
     },
     "execution_count": 14,
     "metadata": {},
     "output_type": "execute_result"
    }
   ],
   "source": [
    "model.fit(X,y,eval_set=[(X,y),(x,Y)])"
   ]
  },
  {
   "cell_type": "code",
   "execution_count": 15,
   "id": "34f41a24",
   "metadata": {
    "execution": {
     "iopub.execute_input": "2024-03-09T15:26:44.472723Z",
     "iopub.status.busy": "2024-03-09T15:26:44.472321Z",
     "iopub.status.idle": "2024-03-09T15:26:44.494780Z",
     "shell.execute_reply": "2024-03-09T15:26:44.493704Z"
    },
    "papermill": {
     "duration": 0.034733,
     "end_time": "2024-03-09T15:26:44.497198",
     "exception": false,
     "start_time": "2024-03-09T15:26:44.462465",
     "status": "completed"
    },
    "tags": []
   },
   "outputs": [
    {
     "data": {
      "text/plain": [
       "0.8010410641989589"
      ]
     },
     "execution_count": 15,
     "metadata": {},
     "output_type": "execute_result"
    }
   ],
   "source": [
    "trueval = dfv['Transported']\n",
    "predval = model.predict(x)\n",
    "sklearn.metrics.accuracy_score(trueval, predval)"
   ]
  },
  {
   "cell_type": "code",
   "execution_count": 16,
   "id": "9ff03345",
   "metadata": {
    "execution": {
     "iopub.execute_input": "2024-03-09T15:26:44.516309Z",
     "iopub.status.busy": "2024-03-09T15:26:44.515524Z",
     "iopub.status.idle": "2024-03-09T15:26:45.075715Z",
     "shell.execute_reply": "2024-03-09T15:26:45.074752Z"
    },
    "papermill": {
     "duration": 0.572582,
     "end_time": "2024-03-09T15:26:45.078197",
     "exception": false,
     "start_time": "2024-03-09T15:26:44.505615",
     "status": "completed"
    },
    "tags": []
   },
   "outputs": [
    {
     "data": {
      "text/plain": [
       "<Axes: title={'center': 'Feature importance'}, xlabel='F score', ylabel='Features'>"
      ]
     },
     "execution_count": 16,
     "metadata": {},
     "output_type": "execute_result"
    },
    {
     "data": {
      "image/png": "[encoded data removed]",
      "text/plain": [
       "<Figure size 640x480 with 1 Axes>"
      ]
     },
     "metadata": {},
     "output_type": "display_data"
    }
   ],
   "source": [
    "xgb.plot_importance(model)"
   ]
  },
  {
   "cell_type": "markdown",
   "id": "526bbceb",
   "metadata": {
    "papermill": {
     "duration": 0.008895,
     "end_time": "2024-03-09T15:26:45.096329",
     "exception": false,
     "start_time": "2024-03-09T15:26:45.087434",
     "status": "completed"
    },
    "tags": []
   },
   "source": [
    "# Prediction"
   ]
  },
  {
   "cell_type": "code",
   "execution_count": 17,
   "id": "c65edfa5",
   "metadata": {
    "execution": {
     "iopub.execute_input": "2024-03-09T15:26:45.117781Z",
     "iopub.status.busy": "2024-03-09T15:26:45.117058Z",
     "iopub.status.idle": "2024-03-09T15:26:45.141639Z",
     "shell.execute_reply": "2024-03-09T15:26:45.140784Z"
    },
    "papermill": {
     "duration": 0.037169,
     "end_time": "2024-03-09T15:26:45.143889",
     "exception": false,
     "start_time": "2024-03-09T15:26:45.106720",
     "status": "completed"
    },
    "tags": []
   },
   "outputs": [],
   "source": [
    "test_df = pd.read_csv('/kaggle/input/spaceship-titanic/test.csv')\n",
    "labels = test_df['PassengerId']"
   ]
  },
  {
   "cell_type": "code",
   "execution_count": 18,
   "id": "2e01b487",
   "metadata": {
    "execution": {
     "iopub.execute_input": "2024-03-09T15:26:45.164277Z",
     "iopub.status.busy": "2024-03-09T15:26:45.163706Z",
     "iopub.status.idle": "2024-03-09T15:26:45.191338Z",
     "shell.execute_reply": "2024-03-09T15:26:45.190224Z"
    },
    "papermill": {
     "duration": 0.040691,
     "end_time": "2024-03-09T15:26:45.193758",
     "exception": false,
     "start_time": "2024-03-09T15:26:45.153067",
     "status": "completed"
    },
    "tags": []
   },
   "outputs": [
    {
     "data": {
      "text/html": [
       "<div>\n",
       "<style scoped>\n",
       "    .dataframe tbody tr th:only-of-type {\n",
       "        vertical-align: middle;\n",
       "    }\n",
       "\n",
       "    .dataframe tbody tr th {\n",
       "        vertical-align: top;\n",
       "    }\n",
       "\n",
       "    .dataframe thead th {\n",
       "        text-align: right;\n",
       "    }\n",
       "</style>\n",
       "<table border=\"1\" class=\"dataframe\">\n",
       "  <thead>\n",
       "    <tr style=\"text-align: right;\">\n",
       "      <th></th>\n",
       "      <th>Age</th>\n",
       "      <th>RoomService</th>\n",
       "      <th>FoodCourt</th>\n",
       "      <th>ShoppingMall</th>\n",
       "      <th>Spa</th>\n",
       "      <th>VRDeck</th>\n",
       "    </tr>\n",
       "  </thead>\n",
       "  <tbody>\n",
       "    <tr>\n",
       "      <th>count</th>\n",
       "      <td>4186.000000</td>\n",
       "      <td>4195.000000</td>\n",
       "      <td>4171.000000</td>\n",
       "      <td>4179.000000</td>\n",
       "      <td>4176.000000</td>\n",
       "      <td>4197.000000</td>\n",
       "    </tr>\n",
       "    <tr>\n",
       "      <th>mean</th>\n",
       "      <td>28.658146</td>\n",
       "      <td>219.266269</td>\n",
       "      <td>439.484296</td>\n",
       "      <td>177.295525</td>\n",
       "      <td>303.052443</td>\n",
       "      <td>310.710031</td>\n",
       "    </tr>\n",
       "    <tr>\n",
       "      <th>std</th>\n",
       "      <td>14.179072</td>\n",
       "      <td>607.011289</td>\n",
       "      <td>1527.663045</td>\n",
       "      <td>560.821123</td>\n",
       "      <td>1117.186015</td>\n",
       "      <td>1246.994742</td>\n",
       "    </tr>\n",
       "    <tr>\n",
       "      <th>min</th>\n",
       "      <td>0.000000</td>\n",
       "      <td>0.000000</td>\n",
       "      <td>0.000000</td>\n",
       "      <td>0.000000</td>\n",
       "      <td>0.000000</td>\n",
       "      <td>0.000000</td>\n",
       "    </tr>\n",
       "    <tr>\n",
       "      <th>25%</th>\n",
       "      <td>19.000000</td>\n",
       "      <td>0.000000</td>\n",
       "      <td>0.000000</td>\n",
       "      <td>0.000000</td>\n",
       "      <td>0.000000</td>\n",
       "      <td>0.000000</td>\n",
       "    </tr>\n",
       "    <tr>\n",
       "      <th>50%</th>\n",
       "      <td>26.000000</td>\n",
       "      <td>0.000000</td>\n",
       "      <td>0.000000</td>\n",
       "      <td>0.000000</td>\n",
       "      <td>0.000000</td>\n",
       "      <td>0.000000</td>\n",
       "    </tr>\n",
       "    <tr>\n",
       "      <th>75%</th>\n",
       "      <td>37.000000</td>\n",
       "      <td>53.000000</td>\n",
       "      <td>78.000000</td>\n",
       "      <td>33.000000</td>\n",
       "      <td>50.000000</td>\n",
       "      <td>36.000000</td>\n",
       "    </tr>\n",
       "    <tr>\n",
       "      <th>max</th>\n",
       "      <td>79.000000</td>\n",
       "      <td>11567.000000</td>\n",
       "      <td>25273.000000</td>\n",
       "      <td>8292.000000</td>\n",
       "      <td>19844.000000</td>\n",
       "      <td>22272.000000</td>\n",
       "    </tr>\n",
       "  </tbody>\n",
       "</table>\n",
       "</div>"
      ],
      "text/plain": [
       "               Age   RoomService     FoodCourt  ShoppingMall           Spa  \\\n",
       "count  4186.000000   4195.000000   4171.000000   4179.000000   4176.000000   \n",
       "mean     28.658146    219.266269    439.484296    177.295525    303.052443   \n",
       "std      14.179072    607.011289   1527.663045    560.821123   1117.186015   \n",
       "min       0.000000      0.000000      0.000000      0.000000      0.000000   \n",
       "25%      19.000000      0.000000      0.000000      0.000000      0.000000   \n",
       "50%      26.000000      0.000000      0.000000      0.000000      0.000000   \n",
       "75%      37.000000     53.000000     78.000000     33.000000     50.000000   \n",
       "max      79.000000  11567.000000  25273.000000   8292.000000  19844.000000   \n",
       "\n",
       "             VRDeck  \n",
       "count   4197.000000  \n",
       "mean     310.710031  \n",
       "std     1246.994742  \n",
       "min        0.000000  \n",
       "25%        0.000000  \n",
       "50%        0.000000  \n",
       "75%       36.000000  \n",
       "max    22272.000000  "
      ]
     },
     "execution_count": 18,
     "metadata": {},
     "output_type": "execute_result"
    }
   ],
   "source": [
    "test_df.describe()"
   ]
  },
  {
   "cell_type": "code",
   "execution_count": 19,
   "id": "44d318aa",
   "metadata": {
    "execution": {
     "iopub.execute_input": "2024-03-09T15:26:45.215628Z",
     "iopub.status.busy": "2024-03-09T15:26:45.214634Z",
     "iopub.status.idle": "2024-03-09T15:26:45.247539Z",
     "shell.execute_reply": "2024-03-09T15:26:45.246512Z"
    },
    "papermill": {
     "duration": 0.046538,
     "end_time": "2024-03-09T15:26:45.249827",
     "exception": false,
     "start_time": "2024-03-09T15:26:45.203289",
     "status": "completed"
    },
    "tags": []
   },
   "outputs": [
    {
     "name": "stderr",
     "output_type": "stream",
     "text": [
      "/tmp/ipykernel_18/3804783369.py:9: FutureWarning: Downcasting behavior in `replace` is deprecated and will be removed in a future version. To retain the old behavior, explicitly call `result.infer_objects(copy=False)`. To opt-in to the future behavior, set `pd.set_option('future.no_silent_downcasting', True)`\n",
      "  test_df['CabinSide'] = test_df['CabinSide'].replace({'S': 0, 'P': 1})\n",
      "/tmp/ipykernel_18/3804783369.py:21: FutureWarning: Downcasting behavior in `replace` is deprecated and will be removed in a future version. To retain the old behavior, explicitly call `result.infer_objects(copy=False)`. To opt-in to the future behavior, set `pd.set_option('future.no_silent_downcasting', True)`\n",
      "  test_df['HomePlanet'] = test_df['HomePlanet'].replace({'Europa': 0, 'Earth': 1, 'Mars': 2})\n"
     ]
    }
   ],
   "source": [
    "test_df[['CabinDeck', 'CabinNum', 'CabinSide']] = test_df['Cabin'].str.split('/', n=2, expand=True)\n",
    "test_df = pd.concat([test_df,pd.get_dummies(test_df.Destination)], axis = 1)\n",
    "test_df = test_df.drop(['Name','Destination','Cabin','PassengerId'],axis=1)\n",
    "test_df.fillna(0,inplace=True)\n",
    "\n",
    "test_df['TotalSpend'] = test_df['RoomService']+test_df['FoodCourt']+test_df['ShoppingMall']+test_df['Spa']+test_df['VRDeck']\n",
    "test_df['CryoSleep'] = test_df['CryoSleep'].astype(bool)\n",
    "test_df['VIP'] = test_df['VIP'].astype(bool)\n",
    "test_df['CabinSide'] = test_df['CabinSide'].replace({'S': 0, 'P': 1})\n",
    "test_df['CabinNum'] = test_df['CabinNum'].astype(int)\n",
    "test_df['CabinDeck'] = test_df['CabinSide'].replace(\n",
    "    {'A': 0,\n",
    "     'B': 1,\n",
    "     'C': 2,\n",
    "     'D': 3,\n",
    "     'E': 4,\n",
    "     'F': 5,\n",
    "     'G': 6,\n",
    "     'T': 7\n",
    "    })\n",
    "test_df['HomePlanet'] = test_df['HomePlanet'].replace({'Europa': 0, 'Earth': 1, 'Mars': 2})"
   ]
  },
  {
   "cell_type": "code",
   "execution_count": 20,
   "id": "dba2257e",
   "metadata": {
    "execution": {
     "iopub.execute_input": "2024-03-09T15:26:45.270330Z",
     "iopub.status.busy": "2024-03-09T15:26:45.269970Z",
     "iopub.status.idle": "2024-03-09T15:26:45.295203Z",
     "shell.execute_reply": "2024-03-09T15:26:45.294178Z"
    },
    "papermill": {
     "duration": 0.037821,
     "end_time": "2024-03-09T15:26:45.297175",
     "exception": false,
     "start_time": "2024-03-09T15:26:45.259354",
     "status": "completed"
    },
    "tags": []
   },
   "outputs": [
    {
     "data": {
      "text/html": [
       "<div>\n",
       "<style scoped>\n",
       "    .dataframe tbody tr th:only-of-type {\n",
       "        vertical-align: middle;\n",
       "    }\n",
       "\n",
       "    .dataframe tbody tr th {\n",
       "        vertical-align: top;\n",
       "    }\n",
       "\n",
       "    .dataframe thead th {\n",
       "        text-align: right;\n",
       "    }\n",
       "</style>\n",
       "<table border=\"1\" class=\"dataframe\">\n",
       "  <thead>\n",
       "    <tr style=\"text-align: right;\">\n",
       "      <th></th>\n",
       "      <th>HomePlanet</th>\n",
       "      <th>CryoSleep</th>\n",
       "      <th>Age</th>\n",
       "      <th>VIP</th>\n",
       "      <th>RoomService</th>\n",
       "      <th>FoodCourt</th>\n",
       "      <th>ShoppingMall</th>\n",
       "      <th>Spa</th>\n",
       "      <th>VRDeck</th>\n",
       "      <th>CabinDeck</th>\n",
       "      <th>CabinNum</th>\n",
       "      <th>CabinSide</th>\n",
       "      <th>55 Cancri e</th>\n",
       "      <th>PSO J318.5-22</th>\n",
       "      <th>TRAPPIST-1e</th>\n",
       "      <th>TotalSpend</th>\n",
       "    </tr>\n",
       "  </thead>\n",
       "  <tbody>\n",
       "    <tr>\n",
       "      <th>0</th>\n",
       "      <td>1</td>\n",
       "      <td>True</td>\n",
       "      <td>27.0</td>\n",
       "      <td>False</td>\n",
       "      <td>0.0</td>\n",
       "      <td>0.0</td>\n",
       "      <td>0.0</td>\n",
       "      <td>0.0</td>\n",
       "      <td>0.0</td>\n",
       "      <td>0</td>\n",
       "      <td>3</td>\n",
       "      <td>0</td>\n",
       "      <td>False</td>\n",
       "      <td>False</td>\n",
       "      <td>True</td>\n",
       "      <td>0.0</td>\n",
       "    </tr>\n",
       "    <tr>\n",
       "      <th>1</th>\n",
       "      <td>1</td>\n",
       "      <td>False</td>\n",
       "      <td>19.0</td>\n",
       "      <td>False</td>\n",
       "      <td>0.0</td>\n",
       "      <td>9.0</td>\n",
       "      <td>0.0</td>\n",
       "      <td>2823.0</td>\n",
       "      <td>0.0</td>\n",
       "      <td>0</td>\n",
       "      <td>4</td>\n",
       "      <td>0</td>\n",
       "      <td>False</td>\n",
       "      <td>False</td>\n",
       "      <td>True</td>\n",
       "      <td>2832.0</td>\n",
       "    </tr>\n",
       "    <tr>\n",
       "      <th>2</th>\n",
       "      <td>0</td>\n",
       "      <td>True</td>\n",
       "      <td>31.0</td>\n",
       "      <td>False</td>\n",
       "      <td>0.0</td>\n",
       "      <td>0.0</td>\n",
       "      <td>0.0</td>\n",
       "      <td>0.0</td>\n",
       "      <td>0.0</td>\n",
       "      <td>0</td>\n",
       "      <td>0</td>\n",
       "      <td>0</td>\n",
       "      <td>True</td>\n",
       "      <td>False</td>\n",
       "      <td>False</td>\n",
       "      <td>0.0</td>\n",
       "    </tr>\n",
       "    <tr>\n",
       "      <th>3</th>\n",
       "      <td>0</td>\n",
       "      <td>False</td>\n",
       "      <td>38.0</td>\n",
       "      <td>False</td>\n",
       "      <td>0.0</td>\n",
       "      <td>6652.0</td>\n",
       "      <td>0.0</td>\n",
       "      <td>181.0</td>\n",
       "      <td>585.0</td>\n",
       "      <td>0</td>\n",
       "      <td>1</td>\n",
       "      <td>0</td>\n",
       "      <td>False</td>\n",
       "      <td>False</td>\n",
       "      <td>True</td>\n",
       "      <td>7418.0</td>\n",
       "    </tr>\n",
       "    <tr>\n",
       "      <th>4</th>\n",
       "      <td>1</td>\n",
       "      <td>False</td>\n",
       "      <td>20.0</td>\n",
       "      <td>False</td>\n",
       "      <td>10.0</td>\n",
       "      <td>0.0</td>\n",
       "      <td>635.0</td>\n",
       "      <td>0.0</td>\n",
       "      <td>0.0</td>\n",
       "      <td>0</td>\n",
       "      <td>5</td>\n",
       "      <td>0</td>\n",
       "      <td>False</td>\n",
       "      <td>False</td>\n",
       "      <td>True</td>\n",
       "      <td>645.0</td>\n",
       "    </tr>\n",
       "    <tr>\n",
       "      <th>...</th>\n",
       "      <td>...</td>\n",
       "      <td>...</td>\n",
       "      <td>...</td>\n",
       "      <td>...</td>\n",
       "      <td>...</td>\n",
       "      <td>...</td>\n",
       "      <td>...</td>\n",
       "      <td>...</td>\n",
       "      <td>...</td>\n",
       "      <td>...</td>\n",
       "      <td>...</td>\n",
       "      <td>...</td>\n",
       "      <td>...</td>\n",
       "      <td>...</td>\n",
       "      <td>...</td>\n",
       "      <td>...</td>\n",
       "    </tr>\n",
       "    <tr>\n",
       "      <th>4272</th>\n",
       "      <td>1</td>\n",
       "      <td>True</td>\n",
       "      <td>34.0</td>\n",
       "      <td>False</td>\n",
       "      <td>0.0</td>\n",
       "      <td>0.0</td>\n",
       "      <td>0.0</td>\n",
       "      <td>0.0</td>\n",
       "      <td>0.0</td>\n",
       "      <td>0</td>\n",
       "      <td>1496</td>\n",
       "      <td>0</td>\n",
       "      <td>False</td>\n",
       "      <td>False</td>\n",
       "      <td>True</td>\n",
       "      <td>0.0</td>\n",
       "    </tr>\n",
       "    <tr>\n",
       "      <th>4273</th>\n",
       "      <td>1</td>\n",
       "      <td>False</td>\n",
       "      <td>42.0</td>\n",
       "      <td>False</td>\n",
       "      <td>0.0</td>\n",
       "      <td>847.0</td>\n",
       "      <td>17.0</td>\n",
       "      <td>10.0</td>\n",
       "      <td>144.0</td>\n",
       "      <td>0</td>\n",
       "      <td>0</td>\n",
       "      <td>0</td>\n",
       "      <td>False</td>\n",
       "      <td>False</td>\n",
       "      <td>True</td>\n",
       "      <td>1018.0</td>\n",
       "    </tr>\n",
       "    <tr>\n",
       "      <th>4274</th>\n",
       "      <td>2</td>\n",
       "      <td>True</td>\n",
       "      <td>0.0</td>\n",
       "      <td>False</td>\n",
       "      <td>0.0</td>\n",
       "      <td>0.0</td>\n",
       "      <td>0.0</td>\n",
       "      <td>0.0</td>\n",
       "      <td>0.0</td>\n",
       "      <td>1</td>\n",
       "      <td>296</td>\n",
       "      <td>1</td>\n",
       "      <td>True</td>\n",
       "      <td>False</td>\n",
       "      <td>False</td>\n",
       "      <td>0.0</td>\n",
       "    </tr>\n",
       "    <tr>\n",
       "      <th>4275</th>\n",
       "      <td>0</td>\n",
       "      <td>False</td>\n",
       "      <td>0.0</td>\n",
       "      <td>False</td>\n",
       "      <td>0.0</td>\n",
       "      <td>2680.0</td>\n",
       "      <td>0.0</td>\n",
       "      <td>0.0</td>\n",
       "      <td>523.0</td>\n",
       "      <td>1</td>\n",
       "      <td>297</td>\n",
       "      <td>1</td>\n",
       "      <td>False</td>\n",
       "      <td>False</td>\n",
       "      <td>False</td>\n",
       "      <td>3203.0</td>\n",
       "    </tr>\n",
       "    <tr>\n",
       "      <th>4276</th>\n",
       "      <td>1</td>\n",
       "      <td>True</td>\n",
       "      <td>43.0</td>\n",
       "      <td>False</td>\n",
       "      <td>0.0</td>\n",
       "      <td>0.0</td>\n",
       "      <td>0.0</td>\n",
       "      <td>0.0</td>\n",
       "      <td>0.0</td>\n",
       "      <td>0</td>\n",
       "      <td>1498</td>\n",
       "      <td>0</td>\n",
       "      <td>False</td>\n",
       "      <td>True</td>\n",
       "      <td>False</td>\n",
       "      <td>0.0</td>\n",
       "    </tr>\n",
       "  </tbody>\n",
       "</table>\n",
       "<p>4277 rows × 16 columns</p>\n",
       "</div>"
      ],
      "text/plain": [
       "      HomePlanet  CryoSleep   Age    VIP  RoomService  FoodCourt  \\\n",
       "0              1       True  27.0  False          0.0        0.0   \n",
       "1              1      False  19.0  False          0.0        9.0   \n",
       "2              0       True  31.0  False          0.0        0.0   \n",
       "3              0      False  38.0  False          0.0     6652.0   \n",
       "4              1      False  20.0  False         10.0        0.0   \n",
       "...          ...        ...   ...    ...          ...        ...   \n",
       "4272           1       True  34.0  False          0.0        0.0   \n",
       "4273           1      False  42.0  False          0.0      847.0   \n",
       "4274           2       True   0.0  False          0.0        0.0   \n",
       "4275           0      False   0.0  False          0.0     2680.0   \n",
       "4276           1       True  43.0  False          0.0        0.0   \n",
       "\n",
       "      ShoppingMall     Spa  VRDeck  CabinDeck  CabinNum  CabinSide  \\\n",
       "0              0.0     0.0     0.0          0         3          0   \n",
       "1              0.0  2823.0     0.0          0         4          0   \n",
       "2              0.0     0.0     0.0          0         0          0   \n",
       "3              0.0   181.0   585.0          0         1          0   \n",
       "4            635.0     0.0     0.0          0         5          0   \n",
       "...            ...     ...     ...        ...       ...        ...   \n",
       "4272           0.0     0.0     0.0          0      1496          0   \n",
       "4273          17.0    10.0   144.0          0         0          0   \n",
       "4274           0.0     0.0     0.0          1       296          1   \n",
       "4275           0.0     0.0   523.0          1       297          1   \n",
       "4276           0.0     0.0     0.0          0      1498          0   \n",
       "\n",
       "      55 Cancri e  PSO J318.5-22  TRAPPIST-1e  TotalSpend  \n",
       "0           False          False         True         0.0  \n",
       "1           False          False         True      2832.0  \n",
       "2            True          False        False         0.0  \n",
       "3           False          False         True      7418.0  \n",
       "4           False          False         True       645.0  \n",
       "...           ...            ...          ...         ...  \n",
       "4272        False          False         True         0.0  \n",
       "4273        False          False         True      1018.0  \n",
       "4274         True          False        False         0.0  \n",
       "4275        False          False        False      3203.0  \n",
       "4276        False           True        False         0.0  \n",
       "\n",
       "[4277 rows x 16 columns]"
      ]
     },
     "execution_count": 20,
     "metadata": {},
     "output_type": "execute_result"
    }
   ],
   "source": [
    "test_df"
   ]
  },
  {
   "cell_type": "code",
   "execution_count": 21,
   "id": "285e9159",
   "metadata": {
    "execution": {
     "iopub.execute_input": "2024-03-09T15:26:45.318537Z",
     "iopub.status.busy": "2024-03-09T15:26:45.318151Z",
     "iopub.status.idle": "2024-03-09T15:26:45.345078Z",
     "shell.execute_reply": "2024-03-09T15:26:45.344012Z"
    },
    "papermill": {
     "duration": 0.040464,
     "end_time": "2024-03-09T15:26:45.347463",
     "exception": false,
     "start_time": "2024-03-09T15:26:45.306999",
     "status": "completed"
    },
    "tags": []
   },
   "outputs": [],
   "source": [
    "test_df['Transported'] = model.predict(test_df)\n",
    "test_df['PassengerId'] = labels"
   ]
  },
  {
   "cell_type": "code",
   "execution_count": 22,
   "id": "a15af696",
   "metadata": {
    "execution": {
     "iopub.execute_input": "2024-03-09T15:26:45.370303Z",
     "iopub.status.busy": "2024-03-09T15:26:45.369708Z",
     "iopub.status.idle": "2024-03-09T15:26:45.380090Z",
     "shell.execute_reply": "2024-03-09T15:26:45.379048Z"
    },
    "papermill": {
     "duration": 0.023846,
     "end_time": "2024-03-09T15:26:45.382264",
     "exception": false,
     "start_time": "2024-03-09T15:26:45.358418",
     "status": "completed"
    },
    "tags": []
   },
   "outputs": [
    {
     "name": "stderr",
     "output_type": "stream",
     "text": [
      "/tmp/ipykernel_18/865874347.py:2: FutureWarning: Downcasting behavior in `replace` is deprecated and will be removed in a future version. To retain the old behavior, explicitly call `result.infer_objects(copy=False)`. To opt-in to the future behavior, set `pd.set_option('future.no_silent_downcasting', True)`\n",
      "  dfexport['Transported'] = dfexport['Transported'].replace({0: False, 1: True}).astype(str)\n",
      "/tmp/ipykernel_18/865874347.py:2: SettingWithCopyWarning: \n",
      "A value is trying to be set on a copy of a slice from a DataFrame.\n",
      "Try using .loc[row_indexer,col_indexer] = value instead\n",
      "\n",
      "See the caveats in the documentation: https://pandas.pydata.org/pandas-docs/stable/user_guide/indexing.html#returning-a-view-versus-a-copy\n",
      "  dfexport['Transported'] = dfexport['Transported'].replace({0: False, 1: True}).astype(str)\n"
     ]
    }
   ],
   "source": [
    "dfexport = test_df[['PassengerId','Transported']]\n",
    "dfexport['Transported'] = dfexport['Transported'].replace({0: False, 1: True}).astype(str)"
   ]
  },
  {
   "cell_type": "code",
   "execution_count": 23,
   "id": "55330993",
   "metadata": {
    "execution": {
     "iopub.execute_input": "2024-03-09T15:26:45.403898Z",
     "iopub.status.busy": "2024-03-09T15:26:45.403489Z",
     "iopub.status.idle": "2024-03-09T15:26:45.415484Z",
     "shell.execute_reply": "2024-03-09T15:26:45.414696Z"
    },
    "papermill": {
     "duration": 0.025435,
     "end_time": "2024-03-09T15:26:45.417672",
     "exception": false,
     "start_time": "2024-03-09T15:26:45.392237",
     "status": "completed"
    },
    "tags": []
   },
   "outputs": [],
   "source": [
    "dfexport.to_csv('predictionoutput2.csv')"
   ]
  },
  {
   "cell_type": "code",
   "execution_count": 24,
   "id": "eeaca369",
   "metadata": {
    "execution": {
     "iopub.execute_input": "2024-03-09T15:26:45.440234Z",
     "iopub.status.busy": "2024-03-09T15:26:45.439645Z",
     "iopub.status.idle": "2024-03-09T15:26:45.443931Z",
     "shell.execute_reply": "2024-03-09T15:26:45.443071Z"
    },
    "papermill": {
     "duration": 0.018199,
     "end_time": "2024-03-09T15:26:45.445917",
     "exception": false,
     "start_time": "2024-03-09T15:26:45.427718",
     "status": "completed"
    },
    "tags": []
   },
   "outputs": [],
   "source": [
    "# The fillna method is trash\n"
   ]
  }
 ],
 "metadata": {
  "kaggle": {
   "accelerator": "none",
   "dataSources": [
    {
     "databundleVersionId": 3220602,
     "sourceId": 34377,
     "sourceType": "competition"
    }
   ],
   "dockerImageVersionId": 30664,
   "isGpuEnabled": false,
   "isInternetEnabled": true,
   "language": "python",
   "sourceType": "notebook"
  },
  "kernelspec": {
   "display_name": "Python 3",
   "language": "python",
   "name": "python3"
  },
  "language_info": {
   "codemirror_mode": {
    "name": "ipython",
    "version": 3
   },
   "file_extension": ".py",
   "mimetype": "text/x-python",
   "name": "python",
   "nbconvert_exporter": "python",
   "pygments_lexer": "ipython3",
   "version": "3.10.13"
  },
  "papermill": {
   "default_parameters": {},
   "duration": 9.458348,
   "end_time": "2024-03-09T15:26:46.177999",
   "environment_variables": {},
   "exception": null,
   "input_path": "__notebook__.ipynb",
   "output_path": "__notebook__.ipynb",
   "parameters": {},
   "start_time": "2024-03-09T15:26:36.719651",
   "version": "2.5.0"
  }
 },
 "nbformat": 4,
 "nbformat_minor": 5
}
